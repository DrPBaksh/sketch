{
 "cells": [
  {
   "cell_type": "markdown",
   "id": "789f0694-f0d0-4462-81e1-cfec698bdf5d",
   "metadata": {},
   "source": [
    "# Sketch\n"
   ]
  },
  {
   "cell_type": "markdown",
   "id": "b198104d-4006-46b7-9849-e3a5e8b9bebf",
   "metadata": {},
   "source": [
    "Sketch is a package designed to help analysis in pandas. If you are working with data in a dataframe sketch takes in natural language and makes suggestions for pandas code to answer your data analysis question"
   ]
  },
  {
   "cell_type": "markdown",
   "id": "25a64737-72f5-4307-a81d-e1fc8174e7bc",
   "metadata": {},
   "source": [
    "This notebook is based on https://github.com/approximatelabs/sketch\n",
    "\n",
    "First we install sketch. This can be done from inside jupyter using !pip or it can be done from an external terminal using pip install or conda install"
   ]
  },
  {
   "cell_type": "code",
   "execution_count": 2,
   "id": "8ad78df5-c035-4549-8400-23943fb7ef28",
   "metadata": {},
   "outputs": [],
   "source": [
    "# !pip install sketch"
   ]
  },
  {
   "cell_type": "code",
   "execution_count": 4,
   "id": "63e74aa6-21f7-4053-9757-73b5e6e94f2c",
   "metadata": {},
   "outputs": [],
   "source": [
    "import pandas as pd\n",
    "import sketch"
   ]
  },
  {
   "cell_type": "code",
   "execution_count": 17,
   "id": "e5f69599-73bf-4502-8722-b0a7c1973b70",
   "metadata": {},
   "outputs": [],
   "source": [
    "df = pd.read_csv('https://github.com/DrPBaksh/workshop-data/blob/main/employee_data.csv?raw=true')"
   ]
  },
  {
   "cell_type": "code",
   "execution_count": 19,
   "id": "3cc60366-c5b8-4eeb-aadb-4fa325ed2e6c",
   "metadata": {},
   "outputs": [
    {
     "data": {
      "text/html": [
       "<div>\n",
       "<style scoped>\n",
       "    .dataframe tbody tr th:only-of-type {\n",
       "        vertical-align: middle;\n",
       "    }\n",
       "\n",
       "    .dataframe tbody tr th {\n",
       "        vertical-align: top;\n",
       "    }\n",
       "\n",
       "    .dataframe thead th {\n",
       "        text-align: right;\n",
       "    }\n",
       "</style>\n",
       "<table border=\"1\" class=\"dataframe\">\n",
       "  <thead>\n",
       "    <tr style=\"text-align: right;\">\n",
       "      <th></th>\n",
       "      <th>Unnamed: 0</th>\n",
       "      <th>Gross_Pay</th>\n",
       "      <th>Name</th>\n",
       "      <th>Sex</th>\n",
       "      <th>DOB</th>\n",
       "      <th>Age</th>\n",
       "      <th>Join_Date</th>\n",
       "      <th>Tenure</th>\n",
       "      <th>Role</th>\n",
       "      <th>Dept</th>\n",
       "    </tr>\n",
       "  </thead>\n",
       "  <tbody>\n",
       "    <tr>\n",
       "      <th>0</th>\n",
       "      <td>0</td>\n",
       "      <td>220212.00</td>\n",
       "      <td>'Dianne Olson'</td>\n",
       "      <td>F</td>\n",
       "      <td>23/02/1991</td>\n",
       "      <td>29</td>\n",
       "      <td>01/07/2013</td>\n",
       "      <td>84</td>\n",
       "      <td>'Software Engineer.Senior II.'</td>\n",
       "      <td>'Enterprise Applications'</td>\n",
       "    </tr>\n",
       "    <tr>\n",
       "      <th>1</th>\n",
       "      <td>1</td>\n",
       "      <td>330468.75</td>\n",
       "      <td>'Deshawn Donaldson'</td>\n",
       "      <td>M</td>\n",
       "      <td>26/02/1984</td>\n",
       "      <td>36</td>\n",
       "      <td>24/04/2017</td>\n",
       "      <td>38</td>\n",
       "      <td>'Software Engineer.Senior II Lead.'</td>\n",
       "      <td>'Media Portal'</td>\n",
       "    </tr>\n",
       "    <tr>\n",
       "      <th>2</th>\n",
       "      <td>2</td>\n",
       "      <td>117429.00</td>\n",
       "      <td>'Patty Prince'</td>\n",
       "      <td>F</td>\n",
       "      <td>29/01/1993</td>\n",
       "      <td>27</td>\n",
       "      <td>01/06/2015</td>\n",
       "      <td>61</td>\n",
       "      <td>'Security Operations Center Specialist..'</td>\n",
       "      <td>'APJ Security Services - SOCC'</td>\n",
       "    </tr>\n",
       "    <tr>\n",
       "      <th>3</th>\n",
       "      <td>3</td>\n",
       "      <td>113674.00</td>\n",
       "      <td>'Elisa Benson'</td>\n",
       "      <td>F</td>\n",
       "      <td>31/05/1990</td>\n",
       "      <td>30</td>\n",
       "      <td>17/04/2017</td>\n",
       "      <td>38</td>\n",
       "      <td>'Software Engineer II..'</td>\n",
       "      <td>'Enterprise Applications'</td>\n",
       "    </tr>\n",
       "    <tr>\n",
       "      <th>4</th>\n",
       "      <td>4</td>\n",
       "      <td>126812.50</td>\n",
       "      <td>'Carl Finley'</td>\n",
       "      <td>M</td>\n",
       "      <td>15/01/1993</td>\n",
       "      <td>27</td>\n",
       "      <td>04/06/2018</td>\n",
       "      <td>25</td>\n",
       "      <td>'Technical Solutions Engineer.Associate.'</td>\n",
       "      <td>'AmaTec - Americas TSE'</td>\n",
       "    </tr>\n",
       "  </tbody>\n",
       "</table>\n",
       "</div>"
      ],
      "text/plain": [
       "   Unnamed: 0  Gross_Pay                 Name Sex         DOB  Age  \\\n",
       "0           0  220212.00       'Dianne Olson'   F  23/02/1991   29   \n",
       "1           1  330468.75  'Deshawn Donaldson'   M  26/02/1984   36   \n",
       "2           2  117429.00       'Patty Prince'   F  29/01/1993   27   \n",
       "3           3  113674.00       'Elisa Benson'   F  31/05/1990   30   \n",
       "4           4  126812.50        'Carl Finley'   M  15/01/1993   27   \n",
       "\n",
       "    Join_Date  Tenure                                       Role  \\\n",
       "0  01/07/2013      84             'Software Engineer.Senior II.'   \n",
       "1  24/04/2017      38        'Software Engineer.Senior II Lead.'   \n",
       "2  01/06/2015      61  'Security Operations Center Specialist..'   \n",
       "3  17/04/2017      38                   'Software Engineer II..'   \n",
       "4  04/06/2018      25  'Technical Solutions Engineer.Associate.'   \n",
       "\n",
       "                             Dept  \n",
       "0       'Enterprise Applications'  \n",
       "1                  'Media Portal'  \n",
       "2  'APJ Security Services - SOCC'  \n",
       "3       'Enterprise Applications'  \n",
       "4         'AmaTec - Americas TSE'  "
      ]
     },
     "execution_count": 19,
     "metadata": {},
     "output_type": "execute_result"
    }
   ],
   "source": [
    "df.head()"
   ]
  },
  {
   "cell_type": "code",
   "execution_count": 26,
   "id": "31af8d0c-0fc1-4d16-9c80-23e61e309574",
   "metadata": {},
   "outputs": [
    {
     "name": "stdout",
     "output_type": "stream",
     "text": [
      "['__class__', '__delattr__', '__dict__', '__dir__', '__doc__', '__eq__', '__format__', '__ge__', '__getattribute__', '__gt__', '__hash__', '__init__', '__init_subclass__', '__le__', '__lt__', '__module__', '__ne__', '__new__', '__reduce__', '__reduce_ex__', '__repr__', '__setattr__', '__sizeof__', '__str__', '__subclasshook__', '__weakref__', '_obj', 'apply', 'ask', 'howto']\n"
     ]
    }
   ],
   "source": [
    "print(dir(df.sketch))"
   ]
  },
  {
   "cell_type": "markdown",
   "id": "16422d94-187b-4e6e-ab84-4159983f40b9",
   "metadata": {},
   "source": [
    "We can see we have 3 main methods (the parts of the class without __ __). Or we could use help. These are apply ask and howto"
   ]
  },
  {
   "cell_type": "code",
   "execution_count": 27,
   "id": "74954b9f-1c6d-4032-8381-06934e8936e8",
   "metadata": {},
   "outputs": [
    {
     "name": "stdout",
     "output_type": "stream",
     "text": [
      "Help on SketchHelper in module sketch.pandas_extension object:\n",
      "\n",
      "class SketchHelper(builtins.object)\n",
      " |  SketchHelper(pandas_obj)\n",
      " |  \n",
      " |  Methods defined here:\n",
      " |  \n",
      " |  __init__(self, pandas_obj)\n",
      " |      Initialize self.  See help(type(self)) for accurate signature.\n",
      " |  \n",
      " |  apply(self, prompt_template_string, **kwargs)\n",
      " |  \n",
      " |  ask(self, question, call_display=True)\n",
      " |  \n",
      " |  howto(self, how, call_display=True)\n",
      " |  \n",
      " |  ----------------------------------------------------------------------\n",
      " |  Data descriptors defined here:\n",
      " |  \n",
      " |  __dict__\n",
      " |      dictionary for instance variables (if defined)\n",
      " |  \n",
      " |  __weakref__\n",
      " |      list of weak references to the object (if defined)\n",
      "\n"
     ]
    }
   ],
   "source": [
    "help(df.sketch)"
   ]
  },
  {
   "cell_type": "markdown",
   "id": "8976d977-41bd-450d-a22f-f13c65c7ede8",
   "metadata": {},
   "source": [
    "### Ask\n",
    "\n",
    "This is great for gaining quick insights about your data"
   ]
  },
  {
   "cell_type": "code",
   "execution_count": 29,
   "id": "2782d578-2837-4721-82cf-359986721b62",
   "metadata": {},
   "outputs": [
    {
     "data": {
      "text/html": [
       "\n",
       "There are 11 columns in your data."
      ],
      "text/plain": [
       "<IPython.core.display.HTML object>"
      ]
     },
     "metadata": {},
     "output_type": "display_data"
    }
   ],
   "source": [
    "df.sketch.ask('how many columns in my data')"
   ]
  },
  {
   "cell_type": "markdown",
   "id": "ac3427f3-bde2-42ed-bbd4-c42562c88498",
   "metadata": {},
   "source": [
    "lets check "
   ]
  },
  {
   "cell_type": "code",
   "execution_count": 49,
   "id": "45b191bc-1bcf-48bb-8cdd-1d314b35f159",
   "metadata": {},
   "outputs": [
    {
     "data": {
      "text/plain": [
       "10"
      ]
     },
     "execution_count": 49,
     "metadata": {},
     "output_type": "execute_result"
    }
   ],
   "source": [
    "len(df.columns)"
   ]
  },
  {
   "cell_type": "markdown",
   "id": "b433c56f-6d04-4c40-aa34-c4f4a58a7b2b",
   "metadata": {},
   "source": [
    "This does not seem to match. Lets explore more"
   ]
  },
  {
   "cell_type": "code",
   "execution_count": 30,
   "id": "55099e6e-05e7-4513-b490-0e2c97235a65",
   "metadata": {},
   "outputs": [
    {
     "data": {
      "text/html": [
       "\n",
       "column names: index, Unnamed: 0, Gross_Pay, Name, Sex, DOB, Age, Join_Date, Tenure, Role, Dept"
      ],
      "text/plain": [
       "<IPython.core.display.HTML object>"
      ]
     },
     "metadata": {},
     "output_type": "display_data"
    }
   ],
   "source": [
    "df.sketch.ask('provide a list of the column names in my data')"
   ]
  },
  {
   "cell_type": "code",
   "execution_count": 50,
   "id": "66581717-cf52-42b8-a902-aca57d35203a",
   "metadata": {},
   "outputs": [
    {
     "data": {
      "text/plain": [
       "Index(['Unnamed: 0', 'Gross_Pay', 'Name', 'Sex', 'DOB', 'Age', 'Join_Date',\n",
       "       'Tenure', 'Role', 'Dept'],\n",
       "      dtype='object')"
      ]
     },
     "execution_count": 50,
     "metadata": {},
     "output_type": "execute_result"
    }
   ],
   "source": [
    "df.columns"
   ]
  },
  {
   "cell_type": "markdown",
   "id": "08d97ba0-4aae-4fca-a219-2ef943ec4844",
   "metadata": {},
   "source": [
    "The agree here so the first answer seems a bit odd"
   ]
  },
  {
   "cell_type": "code",
   "execution_count": 31,
   "id": "2063cea1-2757-4977-9e1d-327ded84e0e8",
   "metadata": {},
   "outputs": [
    {
     "data": {
      "text/html": [
       "\n",
       "The mean of the Gross_Pay column is $179,945."
      ],
      "text/plain": [
       "<IPython.core.display.HTML object>"
      ]
     },
     "metadata": {},
     "output_type": "display_data"
    }
   ],
   "source": [
    "df.sketch.ask('Calculate the mean of the gross pay column')"
   ]
  },
  {
   "cell_type": "markdown",
   "id": "43228788-84bf-4a6b-ad99-7ced35884a83",
   "metadata": {},
   "source": [
    "Lets check"
   ]
  },
  {
   "cell_type": "code",
   "execution_count": 56,
   "id": "d2f3248f-a259-4c26-930f-fb7fb2834362",
   "metadata": {},
   "outputs": [
    {
     "data": {
      "text/plain": [
       "194902.79696969697"
      ]
     },
     "execution_count": 56,
     "metadata": {},
     "output_type": "execute_result"
    }
   ],
   "source": [
    "df.Gross_Pay.mean()"
   ]
  },
  {
   "cell_type": "markdown",
   "id": "2ac012f4-d974-45ed-a0ac-a334b464d40f",
   "metadata": {},
   "source": [
    "Again we are seeing a difference. Maybe sketch has done some cleaning here so we dont know?"
   ]
  },
  {
   "cell_type": "code",
   "execution_count": 57,
   "id": "442e6fe9-7d6e-44c0-85ed-a77da6baf075",
   "metadata": {},
   "outputs": [
    {
     "data": {
      "text/html": [
       "\n",
       "The oldest employee is 56 years old and the youngest employee is 21 years old.\n"
      ],
      "text/plain": [
       "<IPython.core.display.HTML object>"
      ]
     },
     "metadata": {},
     "output_type": "display_data"
    }
   ],
   "source": [
    "df.sketch.ask('What is the oldest and youngest employee')"
   ]
  },
  {
   "cell_type": "markdown",
   "id": "b2567692-f1d6-430f-ab37-6ec63818ae32",
   "metadata": {},
   "source": [
    "Lets check"
   ]
  },
  {
   "cell_type": "code",
   "execution_count": 60,
   "id": "ad4240b9-d2f7-4770-93fc-bdeb4fa97513",
   "metadata": {},
   "outputs": [
    {
     "data": {
      "text/plain": [
       "(56, 21)"
      ]
     },
     "execution_count": 60,
     "metadata": {},
     "output_type": "execute_result"
    }
   ],
   "source": [
    "df.Age.max(), df.Age.min()"
   ]
  },
  {
   "cell_type": "markdown",
   "id": "5f7d9ab6-18b7-4b4b-b519-f96615ee369d",
   "metadata": {},
   "source": [
    "Correct !"
   ]
  },
  {
   "cell_type": "code",
   "execution_count": 33,
   "id": "34f1f39c-20a0-4367-9e34-40a86bbc45f1",
   "metadata": {},
   "outputs": [
    {
     "data": {
      "text/html": [
       "\n",
       "The Department with the most employees is Enterprise Applications, with a total of 246 employees. The role with the most employees within that department is Software Engineer.Senior II, with a total of 79 employees."
      ],
      "text/plain": [
       "<IPython.core.display.HTML object>"
      ]
     },
     "metadata": {},
     "output_type": "display_data"
    }
   ],
   "source": [
    "df.sketch.ask('What Department has the most employees and what role had the most employees within that')"
   ]
  },
  {
   "cell_type": "markdown",
   "id": "500de92d-4068-42b9-9268-48758434abb2",
   "metadata": {},
   "source": [
    "So we can ask more complicated questions. Lets check the last one"
   ]
  },
  {
   "cell_type": "code",
   "execution_count": 44,
   "id": "4fe558ac-bd26-4e98-873a-63733ddef996",
   "metadata": {},
   "outputs": [
    {
     "data": {
      "text/plain": [
       "'Enterprise Applications'                     89\n",
       "'Finance - Customer Revenue Operations GA'    85\n",
       "'IT DevOps'                                   84\n",
       "'Platform Operations'                         74\n",
       "'Corporate Systems'                           71\n",
       "'Americas- AMG'                               70\n",
       "'AmaTec - Americas TSE'                       65\n",
       "'APJ Security Services - SOCC'                50\n",
       "'Enterprise Infrastructure Services'          47\n",
       "'Media Portal'                                41\n",
       "'Media Analytics'                             40\n",
       "'Networks - APJ Infrastructure'               35\n",
       "'LUNA/OPEN Engineering'                       33\n",
       "'Service Delivery Americas Web'               32\n",
       "'Media Services Engineering'                  31\n",
       "'GSS EPIC Engineering (HC COGS)'              30\n",
       "'Enterprise Access Engineering'               30\n",
       "'Dynamic Media SQA'                           30\n",
       "'AmaTec - APJ TSE'                            28\n",
       "'Networks - EMEA Infrastructure'              25\n",
       "Name: Dept, dtype: int64"
      ]
     },
     "execution_count": 44,
     "metadata": {},
     "output_type": "execute_result"
    }
   ],
   "source": [
    "df.Dept.value_counts()"
   ]
  },
  {
   "cell_type": "markdown",
   "id": "83f34807-9056-4e80-bf45-eff25032b3e1",
   "metadata": {},
   "source": [
    "The return from sketch is clearly wrong heremm\n"
   ]
  },
  {
   "cell_type": "markdown",
   "id": "9b80155f-882e-4dc5-8ced-a6bce9821c81",
   "metadata": {},
   "source": [
    "#### Conclusion to ask is take care ! It can be misleading"
   ]
  },
  {
   "cell_type": "markdown",
   "id": "b28b210e-65ed-4f9f-83cb-1728804f7f12",
   "metadata": {},
   "source": [
    "### howto\n",
    "\n",
    "Howto is the basic \"code-writing\" prompt in sketch. This will return a code-block you should be able to copy paste and use as a starting point (or possibly ending!) for any question you have to ask of the data. Ask this how to clean the data, normalize, create new features, plot, and even build models!"
   ]
  },
  {
   "cell_type": "markdown",
   "id": "91298ff0-6af6-4f6c-bee7-d8f6573ebba8",
   "metadata": {},
   "source": [
    "##### howto example 1"
   ]
  },
  {
   "cell_type": "code",
   "execution_count": 61,
   "id": "3dfaabdb-17e8-4637-bb69-bc00eee564ca",
   "metadata": {},
   "outputs": [
    {
     "data": {
      "text/html": [
       "<div style=\"display:flex;flex-direction:row;justify-content:space-between;\">\n",
       "                <pre style=\"width: 100%; white-space: pre-wrap;\" id=\"7c202e13-33b4-4277-af1b-85c2626ebf15\">\n",
       "# import matplotlib library\n",
       "import matplotlib.pyplot as plt\n",
       "\n",
       "# create a bar chart of department vs employee number\n",
       "df.groupby('Dept')['Name'].count().plot(kind='bar')\n",
       "\n",
       "# set the title and labels\n",
       "plt.title('Department vs Employee Number')\n",
       "plt.xlabel('Department')\n",
       "plt.ylabel('Number of Employees')\n",
       "\n",
       "# show the plot\n",
       "plt.show()\n",
       "</pre>\n",
       "                <button style=\"height: fit-content;\" onclick=\"navigator.clipboard.writeText(JSON.parse(atob(`IlxuIyBpbXBvcnQgbWF0cGxvdGxpYiBsaWJyYXJ5XG5pbXBvcnQgbWF0cGxvdGxpYi5weXBsb3QgYXMgcGx0XG5cbiMgY3JlYXRlIGEgYmFyIGNoYXJ0IG9mIGRlcGFydG1lbnQgdnMgZW1wbG95ZWUgbnVtYmVyXG5kZi5ncm91cGJ5KCdEZXB0JylbJ05hbWUnXS5jb3VudCgpLnBsb3Qoa2luZD0nYmFyJylcblxuIyBzZXQgdGhlIHRpdGxlIGFuZCBsYWJlbHNcbnBsdC50aXRsZSgnRGVwYXJ0bWVudCB2cyBFbXBsb3llZSBOdW1iZXInKVxucGx0LnhsYWJlbCgnRGVwYXJ0bWVudCcpXG5wbHQueWxhYmVsKCdOdW1iZXIgb2YgRW1wbG95ZWVzJylcblxuIyBzaG93IHRoZSBwbG90XG5wbHQuc2hvdygpXG4i`)))\">Copy</button>\n",
       "                </div>"
      ],
      "text/plain": [
       "<IPython.core.display.HTML object>"
      ]
     },
     "metadata": {},
     "output_type": "display_data"
    }
   ],
   "source": [
    "df.sketch.howto(\"plot department against employee number\")"
   ]
  },
  {
   "cell_type": "code",
   "execution_count": 62,
   "id": "75bdee6d-8ef3-4bbc-ab52-444dce1a3360",
   "metadata": {},
   "outputs": [
    {
     "data": {
      "image/png": "[encoded data removed]",
      "text/plain": [
       "<Figure size 432x288 with 1 Axes>"
      ]
     },
     "metadata": {
      "needs_background": "light"
     },
     "output_type": "display_data"
    }
   ],
   "source": [
    "# import matplotlib library\n",
    "import matplotlib.pyplot as plt\n",
    "\n",
    "# create a bar chart of department vs employee number\n",
    "df.groupby('Dept')['Name'].count().plot(kind='bar')\n",
    "\n",
    "# set the title and labels\n",
    "plt.title('Department vs Employee Number')\n",
    "plt.xlabel('Department')\n",
    "plt.ylabel('Number of Employees')\n",
    "\n",
    "# show the plot\n",
    "plt.show()"
   ]
  },
  {
   "cell_type": "markdown",
   "id": "ad50c961-6f9c-4a00-acb0-9666ebe30264",
   "metadata": {},
   "source": [
    "This looks correct however lets check outselves. We shall use seaborn to create  histogram"
   ]
  },
  {
   "cell_type": "code",
   "execution_count": 69,
   "id": "01e7214c-f21b-4ac7-846e-58c0cc959267",
   "metadata": {},
   "outputs": [
    {
     "data": {
      "image/png": "[encoded data removed]",
      "text/plain": [
       "<Figure size 720x360 with 1 Axes>"
      ]
     },
     "metadata": {
      "needs_background": "light"
     },
     "output_type": "display_data"
    }
   ],
   "source": [
    "import seaborn as sns\n",
    "sns.displot(data = df, x = 'Dept')\n",
    "plt.xticks(rotation = 90)\n",
    "fig = plt.gcf()\n",
    "fig.set_size_inches(10, 5)\n",
    "plt.show()"
   ]
  },
  {
   "cell_type": "markdown",
   "id": "674a35be-e388-4689-ba69-6c2ed1c01f8f",
   "metadata": {},
   "source": [
    "When you compare the values they are similar. All good there "
   ]
  },
  {
   "cell_type": "markdown",
   "id": "a0a2cde5-981b-45a9-b08e-7bf5abbbd2a4",
   "metadata": {},
   "source": [
    "##### Howto example 2"
   ]
  },
  {
   "cell_type": "code",
   "execution_count": 70,
   "id": "b0869d88-5b5e-4096-a67c-d40abe40d309",
   "metadata": {},
   "outputs": [
    {
     "data": {
      "text/html": [
       "<div style=\"display:flex;flex-direction:row;justify-content:space-between;\">\n",
       "                <pre style=\"width: 100%; white-space: pre-wrap;\" id=\"a359c5b2-6fc9-4d03-bac6-526655eff4c4\">\n",
       "import matplotlib.pyplot as plt\n",
       "\n",
       "# Create a scatter plot of age against gross pay\n",
       "plt.scatter(df['Age'], df['Gross_Pay'])\n",
       "\n",
       "# Calculate the linear regression line\n",
       "slope, intercept = np.polyfit(df['Age'], df['Gross_Pay'], 1)\n",
       "\n",
       "# Add the regression line to the plot\n",
       "plt.plot(df['Age'], slope*df['Age'] + intercept, '-r')\n",
       "\n",
       "# Show the plot\n",
       "plt.show()\n",
       "</pre>\n",
       "                <button style=\"height: fit-content;\" onclick=\"navigator.clipboard.writeText(JSON.parse(atob(`IlxuaW1wb3J0IG1hdHBsb3RsaWIucHlwbG90IGFzIHBsdFxuXG4jIENyZWF0ZSBhIHNjYXR0ZXIgcGxvdCBvZiBhZ2UgYWdhaW5zdCBncm9zcyBwYXlcbnBsdC5zY2F0dGVyKGRmWydBZ2UnXSwgZGZbJ0dyb3NzX1BheSddKVxuXG4jIENhbGN1bGF0ZSB0aGUgbGluZWFyIHJlZ3Jlc3Npb24gbGluZVxuc2xvcGUsIGludGVyY2VwdCA9IG5wLnBvbHlmaXQoZGZbJ0FnZSddLCBkZlsnR3Jvc3NfUGF5J10sIDEpXG5cbiMgQWRkIHRoZSByZWdyZXNzaW9uIGxpbmUgdG8gdGhlIHBsb3RcbnBsdC5wbG90KGRmWydBZ2UnXSwgc2xvcGUqZGZbJ0FnZSddICsgaW50ZXJjZXB0LCAnLXInKVxuXG4jIFNob3cgdGhlIHBsb3RcbnBsdC5zaG93KClcbiI=`)))\">Copy</button>\n",
       "                </div>"
      ],
      "text/plain": [
       "<IPython.core.display.HTML object>"
      ]
     },
     "metadata": {},
     "output_type": "display_data"
    }
   ],
   "source": [
    "df.sketch.howto(\"produce a scatter plot of agae against gross pay. I would like a regression line on the plot\")"
   ]
  },
  {
   "cell_type": "code",
   "execution_count": 71,
   "id": "cbb47493-bc14-401c-9270-e6d8293e7af9",
   "metadata": {},
   "outputs": [
    {
     "ename": "NameError",
     "evalue": "name 'np' is not defined",
     "output_type": "error",
     "traceback": [
      "\u001b[1;31m---------------------------------------------------------------------------\u001b[0m",
      "\u001b[1;31mNameError\u001b[0m                                 Traceback (most recent call last)",
      "Input \u001b[1;32mIn [71]\u001b[0m, in \u001b[0;36m<cell line: 7>\u001b[1;34m()\u001b[0m\n\u001b[0;32m      4\u001b[0m plt\u001b[38;5;241m.\u001b[39mscatter(df[\u001b[38;5;124m'\u001b[39m\u001b[38;5;124mAge\u001b[39m\u001b[38;5;124m'\u001b[39m], df[\u001b[38;5;124m'\u001b[39m\u001b[38;5;124mGross_Pay\u001b[39m\u001b[38;5;124m'\u001b[39m])\n\u001b[0;32m      6\u001b[0m \u001b[38;5;66;03m# Calculate the linear regression line\u001b[39;00m\n\u001b[1;32m----> 7\u001b[0m slope, intercept \u001b[38;5;241m=\u001b[39m \u001b[43mnp\u001b[49m\u001b[38;5;241m.\u001b[39mpolyfit(df[\u001b[38;5;124m'\u001b[39m\u001b[38;5;124mAge\u001b[39m\u001b[38;5;124m'\u001b[39m], df[\u001b[38;5;124m'\u001b[39m\u001b[38;5;124mGross_Pay\u001b[39m\u001b[38;5;124m'\u001b[39m], \u001b[38;5;241m1\u001b[39m)\n\u001b[0;32m      9\u001b[0m \u001b[38;5;66;03m# Add the regression line to the plot\u001b[39;00m\n\u001b[0;32m     10\u001b[0m plt\u001b[38;5;241m.\u001b[39mplot(df[\u001b[38;5;124m'\u001b[39m\u001b[38;5;124mAge\u001b[39m\u001b[38;5;124m'\u001b[39m], slope\u001b[38;5;241m*\u001b[39mdf[\u001b[38;5;124m'\u001b[39m\u001b[38;5;124mAge\u001b[39m\u001b[38;5;124m'\u001b[39m] \u001b[38;5;241m+\u001b[39m intercept, \u001b[38;5;124m'\u001b[39m\u001b[38;5;124m-r\u001b[39m\u001b[38;5;124m'\u001b[39m)\n",
      "\u001b[1;31mNameError\u001b[0m: name 'np' is not defined"
     ]
    },
    {
     "data": {
      "image/png": "[encoded data removed]",
      "text/plain": [
       "<Figure size 432x288 with 1 Axes>"
      ]
     },
     "metadata": {
      "needs_background": "light"
     },
     "output_type": "display_data"
    }
   ],
   "source": [
    "import matplotlib.pyplot as plt\n",
    "\n",
    "# Create a scatter plot of age against gross pay\n",
    "plt.scatter(df['Age'], df['Gross_Pay'])\n",
    "\n",
    "# Calculate the linear regression line\n",
    "slope, intercept = np.polyfit(df['Age'], df['Gross_Pay'], 1)\n",
    "\n",
    "# Add the regression line to the plot\n",
    "plt.plot(df['Age'], slope*df['Age'] + intercept, '-r')\n",
    "\n",
    "# Show the plot\n",
    "plt.show()"
   ]
  },
  {
   "cell_type": "markdown",
   "id": "f5246703-95a7-423b-b6a7-0794f05d6e59",
   "metadata": {},
   "source": [
    "Note here it did not ask us to bring in numpy so we shall do that now"
   ]
  },
  {
   "cell_type": "code",
   "execution_count": 72,
   "id": "2f9320a7-0d76-4bbc-9109-e84f4352c9ee",
   "metadata": {},
   "outputs": [],
   "source": [
    "import numpy as np"
   ]
  },
  {
   "cell_type": "code",
   "execution_count": 73,
   "id": "ea8af33d-bcac-48c8-ac8f-5bdf2907fe7d",
   "metadata": {},
   "outputs": [
    {
     "data": {
      "image/png": "[encoded data removed]",
      "text/plain": [
       "<Figure size 432x288 with 1 Axes>"
      ]
     },
     "metadata": {
      "needs_background": "light"
     },
     "output_type": "display_data"
    }
   ],
   "source": [
    "import matplotlib.pyplot as plt\n",
    "\n",
    "# Create a scatter plot of age against gross pay\n",
    "plt.scatter(df['Age'], df['Gross_Pay'])\n",
    "\n",
    "# Calculate the linear regression line\n",
    "slope, intercept = np.polyfit(df['Age'], df['Gross_Pay'], 1)\n",
    "\n",
    "# Add the regression line to the plot\n",
    "plt.plot(df['Age'], slope*df['Age'] + intercept, '-r')\n",
    "\n",
    "# Show the plot\n",
    "plt.show()"
   ]
  },
  {
   "cell_type": "markdown",
   "id": "72c083ef-7c97-408b-9bd2-2ac457a0b790",
   "metadata": {},
   "source": [
    "This looks correct to me. I would have again used reg plot from seaborn but it does do the task well\n"
   ]
  },
  {
   "cell_type": "code",
   "execution_count": 74,
   "id": "4dc8a542-a2f8-46c3-8921-2de2e5eb16ab",
   "metadata": {},
   "outputs": [
    {
     "data": {
      "text/plain": [
       "<AxesSubplot:xlabel='Age', ylabel='Gross_Pay'>"
      ]
     },
     "execution_count": 74,
     "metadata": {},
     "output_type": "execute_result"
    },
    {
     "data": {
      "image/png": "[encoded data removed]",
      "text/plain": [
       "<Figure size 432x288 with 1 Axes>"
      ]
     },
     "metadata": {
      "needs_background": "light"
     },
     "output_type": "display_data"
    }
   ],
   "source": [
    "sns.regplot(data = df, x = 'Age', y = 'Gross_Pay')"
   ]
  },
  {
   "cell_type": "markdown",
   "id": "8e89b93e-9b55-4b45-b69b-3ccc33baebd4",
   "metadata": {},
   "source": [
    "We can see the plots are the same. "
   ]
  },
  {
   "cell_type": "markdown",
   "id": "8c45f276-27ff-4992-b4b3-81302e278d15",
   "metadata": {},
   "source": [
    "#### howto example 3"
   ]
  },
  {
   "cell_type": "code",
   "execution_count": 76,
   "id": "aac74c68-6ad2-4074-bdec-9392d7ae0ada",
   "metadata": {},
   "outputs": [
    {
     "data": {
      "text/html": [
       "<div style=\"display:flex;flex-direction:row;justify-content:space-between;\">\n",
       "                <pre style=\"width: 100%; white-space: pre-wrap;\" id=\"f9e1f07c-7ce5-441c-acf5-095cc6e18a7d\">\n",
       "# Calculate mean gross pay for each department\n",
       "mean_gross_pay_by_dept = df.groupby('Dept')['Gross_Pay'].mean()\n",
       "\n",
       "# Output dataframe of mean gross pay for each department\n",
       "mean_gross_pay_by_dept_df = pd.DataFrame(mean_gross_pay_by_dept).reset_index()\n",
       "print(mean_gross_pay_by_dept_df)\n",
       "</pre>\n",
       "                <button style=\"height: fit-content;\" onclick=\"navigator.clipboard.writeText(JSON.parse(atob(`IlxuIyBDYWxjdWxhdGUgbWVhbiBncm9zcyBwYXkgZm9yIGVhY2ggZGVwYXJ0bWVudFxubWVhbl9ncm9zc19wYXlfYnlfZGVwdCA9IGRmLmdyb3VwYnkoJ0RlcHQnKVsnR3Jvc3NfUGF5J10ubWVhbigpXG5cbiMgT3V0cHV0IGRhdGFmcmFtZSBvZiBtZWFuIGdyb3NzIHBheSBmb3IgZWFjaCBkZXBhcnRtZW50XG5tZWFuX2dyb3NzX3BheV9ieV9kZXB0X2RmID0gcGQuRGF0YUZyYW1lKG1lYW5fZ3Jvc3NfcGF5X2J5X2RlcHQpLnJlc2V0X2luZGV4KClcbnByaW50KG1lYW5fZ3Jvc3NfcGF5X2J5X2RlcHRfZGYpXG4i`)))\">Copy</button>\n",
       "                </div>"
      ],
      "text/plain": [
       "<IPython.core.display.HTML object>"
      ]
     },
     "metadata": {},
     "output_type": "display_data"
    }
   ],
   "source": [
    "df.sketch.howto(\"How to output a dataframe of mean gross pay for each department\")"
   ]
  },
  {
   "cell_type": "code",
   "execution_count": 77,
   "id": "593b178a-27a1-42f8-87ca-659d03886da7",
   "metadata": {},
   "outputs": [
    {
     "name": "stdout",
     "output_type": "stream",
     "text": [
      "                                          Dept      Gross_Pay\n",
      "0               'APJ Security Services - SOCC'  227722.280000\n",
      "1                           'AmaTec - APJ TSE'  131984.571429\n",
      "2                      'AmaTec - Americas TSE'  139486.000000\n",
      "3                              'Americas- AMG'  141739.989286\n",
      "4                          'Corporate Systems'  238698.602113\n",
      "5                          'Dynamic Media SQA'  186053.691667\n",
      "6              'Enterprise Access Engineering'  369936.583333\n",
      "7                    'Enterprise Applications'  224186.761236\n",
      "8         'Enterprise Infrastructure Services'  201105.664894\n",
      "9   'Finance - Customer Revenue Operations GA'  136004.791176\n",
      "10            'GSS EPIC Engineering (HC COGS)'  219507.150000\n",
      "11                                 'IT DevOps'  188701.217262\n",
      "12                     'LUNA/OPEN Engineering'  243485.045455\n",
      "13                           'Media Analytics'  279327.312500\n",
      "14                              'Media Portal'  256766.006098\n",
      "15                'Media Services Engineering'  213006.056452\n",
      "16             'Networks - APJ Infrastructure'  154679.107143\n",
      "17            'Networks - EMEA Infrastructure'  118205.930000\n",
      "18                       'Platform Operations'  154470.905405\n",
      "19             'Service Delivery Americas Web'  178650.617188\n"
     ]
    }
   ],
   "source": [
    "# Calculate mean gross pay for each department\n",
    "mean_gross_pay_by_dept = df.groupby('Dept')['Gross_Pay'].mean()\n",
    "\n",
    "# Output dataframe of mean gross pay for each department\n",
    "mean_gross_pay_by_dept_df = pd.DataFrame(mean_gross_pay_by_dept).reset_index()\n",
    "print(mean_gross_pay_by_dept_df)"
   ]
  },
  {
   "cell_type": "markdown",
   "id": "43e89d49-af57-45c1-98a4-feb87a23baa1",
   "metadata": {},
   "source": [
    "This looks fine to me"
   ]
  },
  {
   "cell_type": "markdown",
   "id": "918bbd27-4dd3-4b7b-befc-b8bfb2d697e4",
   "metadata": {},
   "source": [
    "#### howto example 4"
   ]
  },
  {
   "cell_type": "code",
   "execution_count": 79,
   "id": "7b506ff6-1ae6-44ab-a879-941e478f1af0",
   "metadata": {},
   "outputs": [
    {
     "data": {
      "text/html": [
       "<div style=\"display:flex;flex-direction:row;justify-content:space-between;\">\n",
       "                <pre style=\"width: 100%; white-space: pre-wrap;\" id=\"befc1563-6c99-4f12-b0f7-fe1236733b96\">\n",
       "# Create a new column called 'test'\n",
       "df['test'] = df['Gross_Pay'] / df['Age']\n",
       "\n",
       "# Group the dataframe by department and role\n",
       "grouped_df = df.groupby(['Dept', 'Role'])\n",
       "\n",
       "# Calculate the mean, max, and min of the 'test' column\n",
       "stats = grouped_df['test'].agg(['mean', 'max', 'min'])\n",
       "\n",
       "# Print the results\n",
       "print(stats)\n",
       "</pre>\n",
       "                <button style=\"height: fit-content;\" onclick=\"navigator.clipboard.writeText(JSON.parse(atob(`IlxuIyBDcmVhdGUgYSBuZXcgY29sdW1uIGNhbGxlZCAndGVzdCdcbmRmWyd0ZXN0J10gPSBkZlsnR3Jvc3NfUGF5J10gLyBkZlsnQWdlJ11cblxuIyBHcm91cCB0aGUgZGF0YWZyYW1lIGJ5IGRlcGFydG1lbnQgYW5kIHJvbGVcbmdyb3VwZWRfZGYgPSBkZi5ncm91cGJ5KFsnRGVwdCcsICdSb2xlJ10pXG5cbiMgQ2FsY3VsYXRlIHRoZSBtZWFuLCBtYXgsIGFuZCBtaW4gb2YgdGhlICd0ZXN0JyBjb2x1bW5cbnN0YXRzID0gZ3JvdXBlZF9kZlsndGVzdCddLmFnZyhbJ21lYW4nLCAnbWF4JywgJ21pbiddKVxuXG4jIFByaW50IHRoZSByZXN1bHRzXG5wcmludChzdGF0cylcbiI=`)))\">Copy</button>\n",
       "                </div>"
      ],
      "text/plain": [
       "<IPython.core.display.HTML object>"
      ]
     },
     "metadata": {},
     "output_type": "display_data"
    }
   ],
   "source": [
    "df.sketch.howto(\"\"\"How to create a column called testwhich \n",
    "will be the result of Gross_Pay divided by age. \n",
    "Take this column test and produce a table on mean max\n",
    "and min of test grouped against department and rol\"\"\")"
   ]
  },
  {
   "cell_type": "code",
   "execution_count": 80,
   "id": "dff2dc93-a930-4dcf-9ceb-d5d2214d624f",
   "metadata": {},
   "outputs": [
    {
     "name": "stdout",
     "output_type": "stream",
     "text": [
      "                                                                                         mean  \\\n",
      "Dept                            Role                                                            \n",
      "'APJ Security Services - SOCC'  'Director..Service Line'                         19967.285714   \n",
      "                                'Escalation Manager..'                            8281.190476   \n",
      "                                'Practice Manager..'                             13292.839461   \n",
      "                                'Practice Manager.Senior.'                       12893.963415   \n",
      "                                'Security Operations Center Network Engineer..'   9133.137453   \n",
      "...                                                                                       ...   \n",
      "'Service Delivery Americas Web' 'Solutions Architect II..'                        6314.490262   \n",
      "                                'Solutions Architect..'                           5041.463139   \n",
      "                                'Solutions Architect.Associate.'                  3426.440000   \n",
      "                                'Solutions Architect.Senior II.'                  9445.928571   \n",
      "                                'Solutions Architect.Senior.'                     6616.177237   \n",
      "\n",
      "                                                                                          max  \\\n",
      "Dept                            Role                                                            \n",
      "'APJ Security Services - SOCC'  'Director..Service Line'                         19967.285714   \n",
      "                                'Escalation Manager..'                            8281.190476   \n",
      "                                'Practice Manager..'                             14597.958333   \n",
      "                                'Practice Manager.Senior.'                       12893.963415   \n",
      "                                'Security Operations Center Network Engineer..'   9501.532258   \n",
      "...                                                                                       ...   \n",
      "'Service Delivery Americas Web' 'Solutions Architect II..'                        7424.956897   \n",
      "                                'Solutions Architect..'                           6220.721154   \n",
      "                                'Solutions Architect.Associate.'                  3426.440000   \n",
      "                                'Solutions Architect.Senior II.'                  9445.928571   \n",
      "                                'Solutions Architect.Senior.'                     8544.007353   \n",
      "\n",
      "                                                                                          min  \n",
      "Dept                            Role                                                           \n",
      "'APJ Security Services - SOCC'  'Director..Service Line'                         19967.285714  \n",
      "                                'Escalation Manager..'                            8281.190476  \n",
      "                                'Practice Manager..'                             11987.720588  \n",
      "                                'Practice Manager.Senior.'                       12893.963415  \n",
      "                                'Security Operations Center Network Engineer..'   8764.742647  \n",
      "...                                                                                       ...  \n",
      "'Service Delivery Americas Web' 'Solutions Architect II..'                        4742.161290  \n",
      "                                'Solutions Architect..'                           3581.733333  \n",
      "                                'Solutions Architect.Associate.'                  3426.440000  \n",
      "                                'Solutions Architect.Senior II.'                  9445.928571  \n",
      "                                'Solutions Architect.Senior.'                       31.724138  \n",
      "\n",
      "[306 rows x 3 columns]\n"
     ]
    }
   ],
   "source": [
    "# Create a new column called 'test'\n",
    "df['test'] = df['Gross_Pay'] / df['Age']\n",
    "\n",
    "# Group the dataframe by department and role\n",
    "grouped_df = df.groupby(['Dept', 'Role'])\n",
    "\n",
    "# Calculate the mean, max, and min of the 'test' column\n",
    "stats = grouped_df['test'].agg(['mean', 'max', 'min'])\n",
    "\n",
    "# Print the results\n",
    "print(stats)"
   ]
  },
  {
   "cell_type": "markdown",
   "id": "d13afd15-e71f-4809-957b-049f67ccc80a",
   "metadata": {},
   "source": [
    "#### Example 5"
   ]
  },
  {
   "cell_type": "code",
   "execution_count": 115,
   "id": "bc2d2d6f-9a15-4b6b-b93d-d034d1cfef92",
   "metadata": {},
   "outputs": [
    {
     "data": {
      "text/html": [
       "<div>\n",
       "<style scoped>\n",
       "    .dataframe tbody tr th:only-of-type {\n",
       "        vertical-align: middle;\n",
       "    }\n",
       "\n",
       "    .dataframe tbody tr th {\n",
       "        vertical-align: top;\n",
       "    }\n",
       "\n",
       "    .dataframe thead th {\n",
       "        text-align: right;\n",
       "    }\n",
       "</style>\n",
       "<table border=\"1\" class=\"dataframe\">\n",
       "  <thead>\n",
       "    <tr style=\"text-align: right;\">\n",
       "      <th></th>\n",
       "      <th>Unnamed: 0</th>\n",
       "      <th>Year</th>\n",
       "      <th>NOC</th>\n",
       "      <th>Country</th>\n",
       "      <th>Sport</th>\n",
       "      <th>Event</th>\n",
       "      <th>Medal</th>\n",
       "      <th>Sex</th>\n",
       "      <th>ID</th>\n",
       "      <th>Age</th>\n",
       "      <th>Height</th>\n",
       "      <th>Weight</th>\n",
       "      <th>Medal_Won</th>\n",
       "      <th>Team_Event</th>\n",
       "      <th>Individual_Event</th>\n",
       "      <th>Medal_Count</th>\n",
       "    </tr>\n",
       "  </thead>\n",
       "  <tbody>\n",
       "    <tr>\n",
       "      <th>0</th>\n",
       "      <td>0</td>\n",
       "      <td>1896</td>\n",
       "      <td>AUS</td>\n",
       "      <td>Australia</td>\n",
       "      <td>Athletics</td>\n",
       "      <td>Athletics Men's 1,500 metres</td>\n",
       "      <td>Gold</td>\n",
       "      <td>M</td>\n",
       "      <td>35698</td>\n",
       "      <td>22.0</td>\n",
       "      <td>0.0</td>\n",
       "      <td>0.0</td>\n",
       "      <td>1</td>\n",
       "      <td>0</td>\n",
       "      <td>1</td>\n",
       "      <td>1.0</td>\n",
       "    </tr>\n",
       "    <tr>\n",
       "      <th>1</th>\n",
       "      <td>1</td>\n",
       "      <td>1896</td>\n",
       "      <td>AUS</td>\n",
       "      <td>Australia</td>\n",
       "      <td>Athletics</td>\n",
       "      <td>Athletics Men's 800 metres</td>\n",
       "      <td>Gold</td>\n",
       "      <td>M</td>\n",
       "      <td>35698</td>\n",
       "      <td>22.0</td>\n",
       "      <td>0.0</td>\n",
       "      <td>0.0</td>\n",
       "      <td>1</td>\n",
       "      <td>0</td>\n",
       "      <td>1</td>\n",
       "      <td>1.0</td>\n",
       "    </tr>\n",
       "    <tr>\n",
       "      <th>2</th>\n",
       "      <td>2</td>\n",
       "      <td>1896</td>\n",
       "      <td>AUS</td>\n",
       "      <td>Australia</td>\n",
       "      <td>Tennis</td>\n",
       "      <td>Tennis Men's Doubles</td>\n",
       "      <td>Bronze</td>\n",
       "      <td>M</td>\n",
       "      <td>35698</td>\n",
       "      <td>22.0</td>\n",
       "      <td>0.0</td>\n",
       "      <td>0.0</td>\n",
       "      <td>1</td>\n",
       "      <td>1</td>\n",
       "      <td>0</td>\n",
       "      <td>1.0</td>\n",
       "    </tr>\n",
       "    <tr>\n",
       "      <th>3</th>\n",
       "      <td>3</td>\n",
       "      <td>1896</td>\n",
       "      <td>AUT</td>\n",
       "      <td>Austria</td>\n",
       "      <td>Cycling</td>\n",
       "      <td>Cycling Men's 10,000 metres</td>\n",
       "      <td>Bronze</td>\n",
       "      <td>M</td>\n",
       "      <td>107006</td>\n",
       "      <td>23.0</td>\n",
       "      <td>0.0</td>\n",
       "      <td>0.0</td>\n",
       "      <td>1</td>\n",
       "      <td>0</td>\n",
       "      <td>1</td>\n",
       "      <td>1.0</td>\n",
       "    </tr>\n",
       "    <tr>\n",
       "      <th>4</th>\n",
       "      <td>4</td>\n",
       "      <td>1896</td>\n",
       "      <td>AUT</td>\n",
       "      <td>Austria</td>\n",
       "      <td>Cycling</td>\n",
       "      <td>Cycling Men's 12-Hours Race</td>\n",
       "      <td>Gold</td>\n",
       "      <td>M</td>\n",
       "      <td>107006</td>\n",
       "      <td>23.0</td>\n",
       "      <td>0.0</td>\n",
       "      <td>0.0</td>\n",
       "      <td>1</td>\n",
       "      <td>0</td>\n",
       "      <td>1</td>\n",
       "      <td>1.0</td>\n",
       "    </tr>\n",
       "  </tbody>\n",
       "</table>\n",
       "</div>"
      ],
      "text/plain": [
       "   Unnamed: 0  Year  NOC    Country      Sport                         Event  \\\n",
       "0           0  1896  AUS  Australia  Athletics  Athletics Men's 1,500 metres   \n",
       "1           1  1896  AUS  Australia  Athletics    Athletics Men's 800 metres   \n",
       "2           2  1896  AUS  Australia     Tennis          Tennis Men's Doubles   \n",
       "3           3  1896  AUT    Austria    Cycling   Cycling Men's 10,000 metres   \n",
       "4           4  1896  AUT    Austria    Cycling   Cycling Men's 12-Hours Race   \n",
       "\n",
       "    Medal Sex      ID   Age  Height  Weight  Medal_Won  Team_Event  \\\n",
       "0    Gold   M   35698  22.0     0.0     0.0          1           0   \n",
       "1    Gold   M   35698  22.0     0.0     0.0          1           0   \n",
       "2  Bronze   M   35698  22.0     0.0     0.0          1           1   \n",
       "3  Bronze   M  107006  23.0     0.0     0.0          1           0   \n",
       "4    Gold   M  107006  23.0     0.0     0.0          1           0   \n",
       "\n",
       "   Individual_Event  Medal_Count  \n",
       "0                 1          1.0  \n",
       "1                 1          1.0  \n",
       "2                 0          1.0  \n",
       "3                 1          1.0  \n",
       "4                 1          1.0  "
      ]
     },
     "execution_count": 115,
     "metadata": {},
     "output_type": "execute_result"
    }
   ],
   "source": [
    "medals = pd.read_csv('https://github.com/DrPBaksh/workshop-data/blob/main/medals_tally.csv?raw=true')\n",
    "medals.head()"
   ]
  },
  {
   "cell_type": "code",
   "execution_count": 117,
   "id": "90459d6e-be6e-461b-ad0e-55c2547ab19d",
   "metadata": {},
   "outputs": [
    {
     "data": {
      "text/html": [
       "<div style=\"display:flex;flex-direction:row;justify-content:space-between;\">\n",
       "                <pre style=\"width: 100%; white-space: pre-wrap;\" id=\"4ac0a3ed-680b-4ee6-aba4-ca8c61863c6a\">\n",
       "import plotly.express as px\n",
       "\n",
       "fig = px.scatter_geo(medals[(medals['Year'] == 2000) & (medals['Medal'] == 'Gold')], \n",
       "                     locations=\"Country\", \n",
       "                     color=\"Medal_Won\", \n",
       "                     hover_name=\"Country\", \n",
       "                     size=\"Medal_Won\", \n",
       "                     projection=\"natural earth\")\n",
       "fig.show()\n",
       "</pre>\n",
       "                <button style=\"height: fit-content;\" onclick=\"navigator.clipboard.writeText(JSON.parse(atob(`IlxuaW1wb3J0IHBsb3RseS5leHByZXNzIGFzIHB4XG5cbmZpZyA9IHB4LnNjYXR0ZXJfZ2VvKG1lZGFsc1sobWVkYWxzWydZZWFyJ10gPT0gMjAwMCkgJiAobWVkYWxzWydNZWRhbCddID09ICdHb2xkJyldLCBcbiAgICAgICAgICAgICAgICAgICAgIGxvY2F0aW9ucz1cIkNvdW50cnlcIiwgXG4gICAgICAgICAgICAgICAgICAgICBjb2xvcj1cIk1lZGFsX1dvblwiLCBcbiAgICAgICAgICAgICAgICAgICAgIGhvdmVyX25hbWU9XCJDb3VudHJ5XCIsIFxuICAgICAgICAgICAgICAgICAgICAgc2l6ZT1cIk1lZGFsX1dvblwiLCBcbiAgICAgICAgICAgICAgICAgICAgIHByb2plY3Rpb249XCJuYXR1cmFsIGVhcnRoXCIpXG5maWcuc2hvdygpXG4i`)))\">Copy</button>\n",
       "                </div>"
      ],
      "text/plain": [
       "<IPython.core.display.HTML object>"
      ]
     },
     "metadata": {},
     "output_type": "display_data"
    }
   ],
   "source": [
    "medals.sketch.howto(\"\"\" using plotly express plot the number of gold medals won per country at the 2000 olympic games on a map\"\"\")"
   ]
  },
  {
   "cell_type": "code",
   "execution_count": 124,
   "id": "89c9df91-1c75-429d-bdbc-660250fa79d2",
   "metadata": {},
   "outputs": [
    {
     "data": {
      "application/vnd.plotly.v1+json": {
       "config": {
        "plotlyServerURL": "https://plot.ly"
       },
       "data": [
        {
         "geo": "geo",
         "hovertemplate": "<b>%{hovertext}</b><br><br>Medal_Won=%{marker.color}<br>Country=%{location}<extra></extra>",
         "hovertext": [
          "Algeria",
          "Algeria",
          "Armenia",
          "Australia",
          "Australia",
          "Australia",
          "Australia",
          "Australia",
          "Australia",
          "Australia",
          "Australia",
          "Australia",
          "Australia",
          "Burundi",
          "Belgium",
          "Belgium",
          "Belarus",
          "Brazil",
          "Brazil",
          "Brazil",
          "Bulgaria",
          "Bulgaria",
          "Bulgaria",
          "Canada",
          "Canada",
          "Canada",
          "China",
          "China",
          "China",
          "China",
          "China",
          "China",
          "China",
          "China",
          "China",
          "China",
          "China",
          "China",
          "China",
          "China",
          "China",
          "China",
          "Costa Rica",
          "Croatia",
          "Cuba",
          "Cuba",
          "Cuba",
          "Cuba",
          "Cuba",
          "Cuba",
          "Cuba",
          "Cuba",
          "Cuba",
          "Czech Republic",
          "Czech Republic",
          "Czech Republic",
          "Czech Republic",
          "Denmark",
          "Denmark",
          "Denmark",
          "Denmark",
          "Ecuador",
          "Spain",
          "Spain",
          "Spain",
          "Spain",
          "Spain",
          "Ethiopia",
          "Ethiopia",
          "Finland",
          "France",
          "France",
          "France",
          "France",
          "France",
          "France",
          "France",
          "France",
          "France",
          "France",
          "France",
          "France",
          "France",
          "France",
          "France",
          "UK",
          "Germany",
          "Germany",
          "Germany",
          "Germany",
          "Germany",
          "Germany",
          "Germany",
          "Germany",
          "Germany",
          "Germany",
          "Germany",
          "Germany",
          "Germany",
          "Germany",
          "Germany",
          "Germany",
          "Germany",
          "Germany",
          "Germany",
          "Germany",
          "Germany",
          "Greece",
          "Greece",
          "Greece",
          "Greece",
          "China",
          "Hungary",
          "Hungary",
          "Hungary",
          "Hungary",
          "Hungary",
          "Hungary",
          "Hungary",
          "Indonesia",
          "Iran",
          "Ireland",
          "Ireland",
          "Ireland",
          "Italy",
          "Italy",
          "Italy",
          "Italy",
          "Italy",
          "Italy",
          "Italy",
          "Italy",
          "Italy",
          "Italy",
          "Italy",
          "Italy",
          "Italy",
          "Jamaica",
          "Japan",
          "Japan",
          "Japan",
          "Kazakhstan",
          "Kazakhstan",
          "Kazakhstan",
          "Kenya",
          "South Korea",
          "South Korea",
          "South Korea",
          "South Korea",
          "South Korea",
          "South Korea",
          "South Korea",
          "South Korea",
          "Netherlands",
          "Netherlands",
          "Netherlands",
          "Netherlands",
          "Nigeria",
          "Nigeria",
          "Norway",
          "Norway",
          "New Zealand",
          "New Zealand",
          "New Zealand",
          "Poland",
          "Poland",
          "Poland",
          "Poland",
          "Poland",
          "Poland",
          "Poland",
          "Portugal",
          "North Korea",
          "North Korea",
          "Romania",
          "Romania",
          "Romania",
          "Romania",
          "South Africa",
          "South Africa",
          "South Africa",
          "Russia",
          "Russia",
          "Russia",
          "Russia",
          "Russia",
          "Russia",
          "Russia",
          "Russia",
          "Russia",
          "Russia",
          "Russia",
          "Russia",
          "Russia",
          "Russia",
          "Russia",
          "Russia",
          "Russia",
          "Russia",
          "Russia",
          "Russia",
          "Russia",
          "Russia",
          "Russia",
          "Russia",
          "Russia",
          "Russia",
          "Serbia",
          "Switzerland",
          "Switzerland",
          "Switzerland",
          "Switzerland",
          "Slovakia",
          "Sweden",
          "Sweden",
          "Syria",
          "Thailand",
          "Turkey",
          "Turkey",
          "Turkey",
          "Turkey",
          "Ukraine",
          "Ukraine",
          "Ukraine",
          "Ukraine",
          "Ukraine",
          "Ukraine",
          "Ukraine",
          "Ukraine",
          "Ukraine",
          "USA",
          "USA",
          "USA",
          "USA",
          "USA",
          "USA",
          "USA",
          "USA",
          "USA",
          "USA",
          "USA",
          "USA",
          "USA",
          "USA",
          "USA",
          "USA",
          "USA",
          "USA",
          "USA",
          "USA",
          "USA",
          "USA",
          "USA",
          "USA",
          "USA",
          "USA",
          "USA",
          "USA",
          "USA",
          "USA",
          "USA",
          "USA",
          "USA",
          "USA",
          "USA",
          "USA",
          "USA",
          "USA",
          "USA",
          "USA",
          "USA",
          "USA",
          "USA",
          "USA"
         ],
         "legendgroup": "",
         "locations": [
          "Algeria",
          "Algeria",
          "Armenia",
          "Australia",
          "Australia",
          "Australia",
          "Australia",
          "Australia",
          "Australia",
          "Australia",
          "Australia",
          "Australia",
          "Australia",
          "Burundi",
          "Belgium",
          "Belgium",
          "Belarus",
          "Brazil",
          "Brazil",
          "Brazil",
          "Bulgaria",
          "Bulgaria",
          "Bulgaria",
          "Canada",
          "Canada",
          "Canada",
          "China",
          "China",
          "China",
          "China",
          "China",
          "China",
          "China",
          "China",
          "China",
          "China",
          "China",
          "China",
          "China",
          "China",
          "China",
          "China",
          "Costa Rica",
          "Croatia",
          "Cuba",
          "Cuba",
          "Cuba",
          "Cuba",
          "Cuba",
          "Cuba",
          "Cuba",
          "Cuba",
          "Cuba",
          "Czech Republic",
          "Czech Republic",
          "Czech Republic",
          "Czech Republic",
          "Denmark",
          "Denmark",
          "Denmark",
          "Denmark",
          "Ecuador",
          "Spain",
          "Spain",
          "Spain",
          "Spain",
          "Spain",
          "Ethiopia",
          "Ethiopia",
          "Finland",
          "France",
          "France",
          "France",
          "France",
          "France",
          "France",
          "France",
          "France",
          "France",
          "France",
          "France",
          "France",
          "France",
          "France",
          "France",
          "UK",
          "Germany",
          "Germany",
          "Germany",
          "Germany",
          "Germany",
          "Germany",
          "Germany",
          "Germany",
          "Germany",
          "Germany",
          "Germany",
          "Germany",
          "Germany",
          "Germany",
          "Germany",
          "Germany",
          "Germany",
          "Germany",
          "Germany",
          "Germany",
          "Germany",
          "Greece",
          "Greece",
          "Greece",
          "Greece",
          "China",
          "Hungary",
          "Hungary",
          "Hungary",
          "Hungary",
          "Hungary",
          "Hungary",
          "Hungary",
          "Indonesia",
          "Iran",
          "Ireland",
          "Ireland",
          "Ireland",
          "Italy",
          "Italy",
          "Italy",
          "Italy",
          "Italy",
          "Italy",
          "Italy",
          "Italy",
          "Italy",
          "Italy",
          "Italy",
          "Italy",
          "Italy",
          "Jamaica",
          "Japan",
          "Japan",
          "Japan",
          "Kazakhstan",
          "Kazakhstan",
          "Kazakhstan",
          "Kenya",
          "South Korea",
          "South Korea",
          "South Korea",
          "South Korea",
          "South Korea",
          "South Korea",
          "South Korea",
          "South Korea",
          "Netherlands",
          "Netherlands",
          "Netherlands",
          "Netherlands",
          "Nigeria",
          "Nigeria",
          "Norway",
          "Norway",
          "New Zealand",
          "New Zealand",
          "New Zealand",
          "Poland",
          "Poland",
          "Poland",
          "Poland",
          "Poland",
          "Poland",
          "Poland",
          "Portugal",
          "North Korea",
          "North Korea",
          "Romania",
          "Romania",
          "Romania",
          "Romania",
          "South Africa",
          "South Africa",
          "South Africa",
          "Russia",
          "Russia",
          "Russia",
          "Russia",
          "Russia",
          "Russia",
          "Russia",
          "Russia",
          "Russia",
          "Russia",
          "Russia",
          "Russia",
          "Russia",
          "Russia",
          "Russia",
          "Russia",
          "Russia",
          "Russia",
          "Russia",
          "Russia",
          "Russia",
          "Russia",
          "Russia",
          "Russia",
          "Russia",
          "Russia",
          "Serbia",
          "Switzerland",
          "Switzerland",
          "Switzerland",
          "Switzerland",
          "Slovakia",
          "Sweden",
          "Sweden",
          "Syria",
          "Thailand",
          "Turkey",
          "Turkey",
          "Turkey",
          "Turkey",
          "Ukraine",
          "Ukraine",
          "Ukraine",
          "Ukraine",
          "Ukraine",
          "Ukraine",
          "Ukraine",
          "Ukraine",
          "Ukraine",
          "USA",
          "USA",
          "USA",
          "USA",
          "USA",
          "USA",
          "USA",
          "USA",
          "USA",
          "USA",
          "USA",
          "USA",
          "USA",
          "USA",
          "USA",
          "USA",
          "USA",
          "USA",
          "USA",
          "USA",
          "USA",
          "USA",
          "USA",
          "USA",
          "USA",
          "USA",
          "USA",
          "USA",
          "USA",
          "USA",
          "USA",
          "USA",
          "USA",
          "USA",
          "USA",
          "USA",
          "USA",
          "USA",
          "USA",
          "USA",
          "USA",
          "USA",
          "USA",
          "USA"
         ],
         "marker": {
          "color": [
           1,
           1,
           1,
           2,
           2,
           16,
           4,
           2,
           1,
           1,
           1,
           1,
           2,
           1,
           1,
           1,
           1,
           2,
           1,
           2,
           1,
           1,
           1,
           1,
           5,
           2,
           1,
           2,
           1,
           1,
           1,
           1,
           1,
           1,
           1,
           1,
           2,
           1,
           2,
           1,
           1,
           1,
           1,
           16,
           20,
           1,
           1,
           1,
           1,
           1,
           10,
           1,
           1,
           1,
           1,
           1,
           1,
           1,
           15,
           4,
           1,
           1,
           1,
           6,
           2,
           2,
           12,
           1,
           1,
           1,
           1,
           1,
           1,
           2,
           1,
           4,
           1,
           1,
           1,
           1,
           3,
           1,
           1,
           1,
           1,
           2,
           1,
           1,
           1,
           2,
           2,
           4,
           1,
           4,
           1,
           1,
           2,
           2,
           1,
           4,
           1,
           1,
           4,
           4,
           3,
           1,
           1,
           1,
           1,
           1,
           1,
           1,
           1,
           1,
           2,
           1,
           1,
           1,
           1,
           2,
           1,
           1,
           1,
           1,
           2,
           1,
           1,
           1,
           1,
           1,
           1,
           3,
           3,
           1,
           2,
           1,
           1,
           1,
           1,
           1,
           1,
           1,
           1,
           1,
           1,
           1,
           3,
           1,
           1,
           1,
           1,
           1,
           1,
           1,
           16,
           9,
           12,
           1,
           16,
           1,
           1,
           1,
           1,
           1,
           1,
           1,
           1,
           1,
           1,
           1,
           1,
           1,
           1,
           1,
           1,
           1,
           9,
           2,
           1,
           1,
           1,
           1,
           1,
           1,
           1,
           1,
           1,
           3,
           1,
           3,
           1,
           1,
           7,
           1,
           1,
           1,
           1,
           1,
           1,
           1,
           1,
           1,
           1,
           1,
           1,
           1,
           1,
           1,
           1,
           1,
           2,
           1,
           1,
           1,
           2,
           1,
           1,
           1,
           1,
           1,
           1,
           1,
           1,
           1,
           1,
           1,
           1,
           2,
           1,
           1,
           1,
           3,
           1,
           1,
           5,
           1,
           1,
           1,
           1,
           1,
           1,
           1,
           1,
           5,
           5,
           12,
           12,
           2,
           1,
           15,
           1,
           7,
           1,
           15,
           1,
           1,
           6,
           8,
           5,
           1,
           1,
           1,
           6,
           8,
           7,
           1,
           1,
           10,
           1,
           2,
           1,
           1,
           1,
           1
          ],
          "coloraxis": "coloraxis",
          "size": [
           1,
           1,
           1,
           2,
           2,
           16,
           4,
           2,
           1,
           1,
           1,
           1,
           2,
           1,
           1,
           1,
           1,
           2,
           1,
           2,
           1,
           1,
           1,
           1,
           5,
           2,
           1,
           2,
           1,
           1,
           1,
           1,
           1,
           1,
           1,
           1,
           2,
           1,
           2,
           1,
           1,
           1,
           1,
           16,
           20,
           1,
           1,
           1,
           1,
           1,
           10,
           1,
           1,
           1,
           1,
           1,
           1,
           1,
           15,
           4,
           1,
           1,
           1,
           6,
           2,
           2,
           12,
           1,
           1,
           1,
           1,
           1,
           1,
           2,
           1,
           4,
           1,
           1,
           1,
           1,
           3,
           1,
           1,
           1,
           1,
           2,
           1,
           1,
           1,
           2,
           2,
           4,
           1,
           4,
           1,
           1,
           2,
           2,
           1,
           4,
           1,
           1,
           4,
           4,
           3,
           1,
           1,
           1,
           1,
           1,
           1,
           1,
           1,
           1,
           2,
           1,
           1,
           1,
           1,
           2,
           1,
           1,
           1,
           1,
           2,
           1,
           1,
           1,
           1,
           1,
           1,
           3,
           3,
           1,
           2,
           1,
           1,
           1,
           1,
           1,
           1,
           1,
           1,
           1,
           1,
           1,
           3,
           1,
           1,
           1,
           1,
           1,
           1,
           1,
           16,
           9,
           12,
           1,
           16,
           1,
           1,
           1,
           1,
           1,
           1,
           1,
           1,
           1,
           1,
           1,
           1,
           1,
           1,
           1,
           1,
           1,
           9,
           2,
           1,
           1,
           1,
           1,
           1,
           1,
           1,
           1,
           1,
           3,
           1,
           3,
           1,
           1,
           7,
           1,
           1,
           1,
           1,
           1,
           1,
           1,
           1,
           1,
           1,
           1,
           1,
           1,
           1,
           1,
           1,
           1,
           2,
           1,
           1,
           1,
           2,
           1,
           1,
           1,
           1,
           1,
           1,
           1,
           1,
           1,
           1,
           1,
           1,
           2,
           1,
           1,
           1,
           3,
           1,
           1,
           5,
           1,
           1,
           1,
           1,
           1,
           1,
           1,
           1,
           5,
           5,
           12,
           12,
           2,
           1,
           15,
           1,
           7,
           1,
           15,
           1,
           1,
           6,
           8,
           5,
           1,
           1,
           1,
           6,
           8,
           7,
           1,
           1,
           10,
           1,
           2,
           1,
           1,
           1,
           1
          ],
          "sizemode": "area",
          "sizeref": 0.05,
          "symbol": "circle"
         },
         "mode": "markers",
         "name": "",
         "showlegend": false,
         "type": "scattergeo"
        }
       ],
       "layout": {
        "autosize": true,
        "coloraxis": {
         "colorbar": {
          "title": {
           "text": "Medal_Won"
          }
         },
         "colorscale": [
          [
           0,
           "#0d0887"
          ],
          [
           0.1111111111111111,
           "#46039f"
          ],
          [
           0.2222222222222222,
           "#7201a8"
          ],
          [
           0.3333333333333333,
           "#9c179e"
          ],
          [
           0.4444444444444444,
           "#bd3786"
          ],
          [
           0.5555555555555556,
           "#d8576b"
          ],
          [
           0.6666666666666666,
           "#ed7953"
          ],
          [
           0.7777777777777778,
           "#fb9f3a"
          ],
          [
           0.8888888888888888,
           "#fdca26"
          ],
          [
           1,
           "#f0f921"
          ]
         ]
        },
        "geo": {
         "center": {},
         "domain": {
          "x": [
           0,
           1
          ],
          "y": [
           0,
           1
          ]
         },
         "projection": {
          "type": "natural earth"
         }
        },
        "legend": {
         "itemsizing": "constant",
         "tracegroupgap": 0
        },
        "margin": {
         "t": 60
        },
        "template": {
         "data": {
          "bar": [
           {
            "error_x": {
             "color": "#2a3f5f"
            },
            "error_y": {
             "color": "#2a3f5f"
            },
            "marker": {
             "line": {
              "color": "#E5ECF6",
              "width": 0.5
             },
             "pattern": {
              "fillmode": "overlay",
              "size": 10,
              "solidity": 0.2
             }
            },
            "type": "bar"
           }
          ],
          "barpolar": [
           {
            "marker": {
             "line": {
              "color": "#E5ECF6",
              "width": 0.5
             },
             "pattern": {
              "fillmode": "overlay",
              "size": 10,
              "solidity": 0.2
             }
            },
            "type": "barpolar"
           }
          ],
          "carpet": [
           {
            "aaxis": {
             "endlinecolor": "#2a3f5f",
             "gridcolor": "white",
             "linecolor": "white",
             "minorgridcolor": "white",
             "startlinecolor": "#2a3f5f"
            },
            "baxis": {
             "endlinecolor": "#2a3f5f",
             "gridcolor": "white",
             "linecolor": "white",
             "minorgridcolor": "white",
             "startlinecolor": "#2a3f5f"
            },
            "type": "carpet"
           }
          ],
          "choropleth": [
           {
            "colorbar": {
             "outlinewidth": 0,
             "ticks": ""
            },
            "type": "choropleth"
           }
          ],
          "contour": [
           {
            "colorbar": {
             "outlinewidth": 0,
             "ticks": ""
            },
            "colorscale": [
             [
              0,
              "#0d0887"
             ],
             [
              0.1111111111111111,
              "#46039f"
             ],
             [
              0.2222222222222222,
              "#7201a8"
             ],
             [
              0.3333333333333333,
              "#9c179e"
             ],
             [
              0.4444444444444444,
              "#bd3786"
             ],
             [
              0.5555555555555556,
              "#d8576b"
             ],
             [
              0.6666666666666666,
              "#ed7953"
             ],
             [
              0.7777777777777778,
              "#fb9f3a"
             ],
             [
              0.8888888888888888,
              "#fdca26"
             ],
             [
              1,
              "#f0f921"
             ]
            ],
            "type": "contour"
           }
          ],
          "contourcarpet": [
           {
            "colorbar": {
             "outlinewidth": 0,
             "ticks": ""
            },
            "type": "contourcarpet"
           }
          ],
          "heatmap": [
           {
            "colorbar": {
             "outlinewidth": 0,
             "ticks": ""
            },
            "colorscale": [
             [
              0,
              "#0d0887"
             ],
             [
              0.1111111111111111,
              "#46039f"
             ],
             [
              0.2222222222222222,
              "#7201a8"
             ],
             [
              0.3333333333333333,
              "#9c179e"
             ],
             [
              0.4444444444444444,
              "#bd3786"
             ],
             [
              0.5555555555555556,
              "#d8576b"
             ],
             [
              0.6666666666666666,
              "#ed7953"
             ],
             [
              0.7777777777777778,
              "#fb9f3a"
             ],
             [
              0.8888888888888888,
              "#fdca26"
             ],
             [
              1,
              "#f0f921"
             ]
            ],
            "type": "heatmap"
           }
          ],
          "heatmapgl": [
           {
            "colorbar": {
             "outlinewidth": 0,
             "ticks": ""
            },
            "colorscale": [
             [
              0,
              "#0d0887"
             ],
             [
              0.1111111111111111,
              "#46039f"
             ],
             [
              0.2222222222222222,
              "#7201a8"
             ],
             [
              0.3333333333333333,
              "#9c179e"
             ],
             [
              0.4444444444444444,
              "#bd3786"
             ],
             [
              0.5555555555555556,
              "#d8576b"
             ],
             [
              0.6666666666666666,
              "#ed7953"
             ],
             [
              0.7777777777777778,
              "#fb9f3a"
             ],
             [
              0.8888888888888888,
              "#fdca26"
             ],
             [
              1,
              "#f0f921"
             ]
            ],
            "type": "heatmapgl"
           }
          ],
          "histogram": [
           {
            "marker": {
             "pattern": {
              "fillmode": "overlay",
              "size": 10,
              "solidity": 0.2
             }
            },
            "type": "histogram"
           }
          ],
          "histogram2d": [
           {
            "colorbar": {
             "outlinewidth": 0,
             "ticks": ""
            },
            "colorscale": [
             [
              0,
              "#0d0887"
             ],
             [
              0.1111111111111111,
              "#46039f"
             ],
             [
              0.2222222222222222,
              "#7201a8"
             ],
             [
              0.3333333333333333,
              "#9c179e"
             ],
             [
              0.4444444444444444,
              "#bd3786"
             ],
             [
              0.5555555555555556,
              "#d8576b"
             ],
             [
              0.6666666666666666,
              "#ed7953"
             ],
             [
              0.7777777777777778,
              "#fb9f3a"
             ],
             [
              0.8888888888888888,
              "#fdca26"
             ],
             [
              1,
              "#f0f921"
             ]
            ],
            "type": "histogram2d"
           }
          ],
          "histogram2dcontour": [
           {
            "colorbar": {
             "outlinewidth": 0,
             "ticks": ""
            },
            "colorscale": [
             [
              0,
              "#0d0887"
             ],
             [
              0.1111111111111111,
              "#46039f"
             ],
             [
              0.2222222222222222,
              "#7201a8"
             ],
             [
              0.3333333333333333,
              "#9c179e"
             ],
             [
              0.4444444444444444,
              "#bd3786"
             ],
             [
              0.5555555555555556,
              "#d8576b"
             ],
             [
              0.6666666666666666,
              "#ed7953"
             ],
             [
              0.7777777777777778,
              "#fb9f3a"
             ],
             [
              0.8888888888888888,
              "#fdca26"
             ],
             [
              1,
              "#f0f921"
             ]
            ],
            "type": "histogram2dcontour"
           }
          ],
          "mesh3d": [
           {
            "colorbar": {
             "outlinewidth": 0,
             "ticks": ""
            },
            "type": "mesh3d"
           }
          ],
          "parcoords": [
           {
            "line": {
             "colorbar": {
              "outlinewidth": 0,
              "ticks": ""
             }
            },
            "type": "parcoords"
           }
          ],
          "pie": [
           {
            "automargin": true,
            "type": "pie"
           }
          ],
          "scatter": [
           {
            "marker": {
             "colorbar": {
              "outlinewidth": 0,
              "ticks": ""
             }
            },
            "type": "scatter"
           }
          ],
          "scatter3d": [
           {
            "line": {
             "colorbar": {
              "outlinewidth": 0,
              "ticks": ""
             }
            },
            "marker": {
             "colorbar": {
              "outlinewidth": 0,
              "ticks": ""
             }
            },
            "type": "scatter3d"
           }
          ],
          "scattercarpet": [
           {
            "marker": {
             "colorbar": {
              "outlinewidth": 0,
              "ticks": ""
             }
            },
            "type": "scattercarpet"
           }
          ],
          "scattergeo": [
           {
            "marker": {
             "colorbar": {
              "outlinewidth": 0,
              "ticks": ""
             }
            },
            "type": "scattergeo"
           }
          ],
          "scattergl": [
           {
            "marker": {
             "colorbar": {
              "outlinewidth": 0,
              "ticks": ""
             }
            },
            "type": "scattergl"
           }
          ],
          "scattermapbox": [
           {
            "marker": {
             "colorbar": {
              "outlinewidth": 0,
              "ticks": ""
             }
            },
            "type": "scattermapbox"
           }
          ],
          "scatterpolar": [
           {
            "marker": {
             "colorbar": {
              "outlinewidth": 0,
              "ticks": ""
             }
            },
            "type": "scatterpolar"
           }
          ],
          "scatterpolargl": [
           {
            "marker": {
             "colorbar": {
              "outlinewidth": 0,
              "ticks": ""
             }
            },
            "type": "scatterpolargl"
           }
          ],
          "scatterternary": [
           {
            "marker": {
             "colorbar": {
              "outlinewidth": 0,
              "ticks": ""
             }
            },
            "type": "scatterternary"
           }
          ],
          "surface": [
           {
            "colorbar": {
             "outlinewidth": 0,
             "ticks": ""
            },
            "colorscale": [
             [
              0,
              "#0d0887"
             ],
             [
              0.1111111111111111,
              "#46039f"
             ],
             [
              0.2222222222222222,
              "#7201a8"
             ],
             [
              0.3333333333333333,
              "#9c179e"
             ],
             [
              0.4444444444444444,
              "#bd3786"
             ],
             [
              0.5555555555555556,
              "#d8576b"
             ],
             [
              0.6666666666666666,
              "#ed7953"
             ],
             [
              0.7777777777777778,
              "#fb9f3a"
             ],
             [
              0.8888888888888888,
              "#fdca26"
             ],
             [
              1,
              "#f0f921"
             ]
            ],
            "type": "surface"
           }
          ],
          "table": [
           {
            "cells": {
             "fill": {
              "color": "#EBF0F8"
             },
             "line": {
              "color": "white"
             }
            },
            "header": {
             "fill": {
              "color": "#C8D4E3"
             },
             "line": {
              "color": "white"
             }
            },
            "type": "table"
           }
          ]
         },
         "layout": {
          "annotationdefaults": {
           "arrowcolor": "#2a3f5f",
           "arrowhead": 0,
           "arrowwidth": 1
          },
          "autotypenumbers": "strict",
          "coloraxis": {
           "colorbar": {
            "outlinewidth": 0,
            "ticks": ""
           }
          },
          "colorscale": {
           "diverging": [
            [
             0,
             "#8e0152"
            ],
            [
             0.1,
             "#c51b7d"
            ],
            [
             0.2,
             "#de77ae"
            ],
            [
             0.3,
             "#f1b6da"
            ],
            [
             0.4,
             "#fde0ef"
            ],
            [
             0.5,
             "#f7f7f7"
            ],
            [
             0.6,
             "#e6f5d0"
            ],
            [
             0.7,
             "#b8e186"
            ],
            [
             0.8,
             "#7fbc41"
            ],
            [
             0.9,
             "#4d9221"
            ],
            [
             1,
             "#276419"
            ]
           ],
           "sequential": [
            [
             0,
             "#0d0887"
            ],
            [
             0.1111111111111111,
             "#46039f"
            ],
            [
             0.2222222222222222,
             "#7201a8"
            ],
            [
             0.3333333333333333,
             "#9c179e"
            ],
            [
             0.4444444444444444,
             "#bd3786"
            ],
            [
             0.5555555555555556,
             "#d8576b"
            ],
            [
             0.6666666666666666,
             "#ed7953"
            ],
            [
             0.7777777777777778,
             "#fb9f3a"
            ],
            [
             0.8888888888888888,
             "#fdca26"
            ],
            [
             1,
             "#f0f921"
            ]
           ],
           "sequentialminus": [
            [
             0,
             "#0d0887"
            ],
            [
             0.1111111111111111,
             "#46039f"
            ],
            [
             0.2222222222222222,
             "#7201a8"
            ],
            [
             0.3333333333333333,
             "#9c179e"
            ],
            [
             0.4444444444444444,
             "#bd3786"
            ],
            [
             0.5555555555555556,
             "#d8576b"
            ],
            [
             0.6666666666666666,
             "#ed7953"
            ],
            [
             0.7777777777777778,
             "#fb9f3a"
            ],
            [
             0.8888888888888888,
             "#fdca26"
            ],
            [
             1,
             "#f0f921"
            ]
           ]
          },
          "colorway": [
           "#636efa",
           "#EF553B",
           "#00cc96",
           "#ab63fa",
           "#FFA15A",
           "#19d3f3",
           "#FF6692",
           "#B6E880",
           "#FF97FF",
           "#FECB52"
          ],
          "font": {
           "color": "#2a3f5f"
          },
          "geo": {
           "bgcolor": "white",
           "lakecolor": "white",
           "landcolor": "#E5ECF6",
           "showlakes": true,
           "showland": true,
           "subunitcolor": "white"
          },
          "hoverlabel": {
           "align": "left"
          },
          "hovermode": "closest",
          "mapbox": {
           "style": "light"
          },
          "paper_bgcolor": "white",
          "plot_bgcolor": "#E5ECF6",
          "polar": {
           "angularaxis": {
            "gridcolor": "white",
            "linecolor": "white",
            "ticks": ""
           },
           "bgcolor": "#E5ECF6",
           "radialaxis": {
            "gridcolor": "white",
            "linecolor": "white",
            "ticks": ""
           }
          },
          "scene": {
           "xaxis": {
            "backgroundcolor": "#E5ECF6",
            "gridcolor": "white",
            "gridwidth": 2,
            "linecolor": "white",
            "showbackground": true,
            "ticks": "",
            "zerolinecolor": "white"
           },
           "yaxis": {
            "backgroundcolor": "#E5ECF6",
            "gridcolor": "white",
            "gridwidth": 2,
            "linecolor": "white",
            "showbackground": true,
            "ticks": "",
            "zerolinecolor": "white"
           },
           "zaxis": {
            "backgroundcolor": "#E5ECF6",
            "gridcolor": "white",
            "gridwidth": 2,
            "linecolor": "white",
            "showbackground": true,
            "ticks": "",
            "zerolinecolor": "white"
           }
          },
          "shapedefaults": {
           "line": {
            "color": "#2a3f5f"
           }
          },
          "ternary": {
           "aaxis": {
            "gridcolor": "white",
            "linecolor": "white",
            "ticks": ""
           },
           "baxis": {
            "gridcolor": "white",
            "linecolor": "white",
            "ticks": ""
           },
           "bgcolor": "#E5ECF6",
           "caxis": {
            "gridcolor": "white",
            "linecolor": "white",
            "ticks": ""
           }
          },
          "title": {
           "x": 0.05
          },
          "xaxis": {
           "automargin": true,
           "gridcolor": "white",
           "linecolor": "white",
           "ticks": "",
           "title": {
            "standoff": 15
           },
           "zerolinecolor": "white",
           "zerolinewidth": 2
          },
          "yaxis": {
           "automargin": true,
           "gridcolor": "white",
           "linecolor": "white",
           "ticks": "",
           "title": {
            "standoff": 15
           },
           "zerolinecolor": "white",
           "zerolinewidth": 2
          }
         }
        }
       }
      },
      "image/png": "[encoded data removed]",
      "text/html": [
       "<div>                            <div id=\"62f78e65-d80f-4e41-be52-5ab3aca6d3c9\" class=\"plotly-graph-div\" style=\"height:525px; width:100%;\"></div>            <script type=\"text/javascript\">                require([\"plotly\"], function(Plotly) {                    window.PLOTLYENV=window.PLOTLYENV || {};                                    if (document.getElementById(\"62f78e65-d80f-4e41-be52-5ab3aca6d3c9\")) {                    Plotly.newPlot(                        \"62f78e65-d80f-4e41-be52-5ab3aca6d3c9\",                        [{\"geo\":\"geo\",\"hovertemplate\":\"<b>%{hovertext}</b><br><br>Medal_Won=%{marker.color}<br>Country=%{location}<extra></extra>\",\"hovertext\":[\"Algeria\",\"Algeria\",\"Armenia\",\"Australia\",\"Australia\",\"Australia\",\"Australia\",\"Australia\",\"Australia\",\"Australia\",\"Australia\",\"Australia\",\"Australia\",\"Burundi\",\"Belgium\",\"Belgium\",\"Belarus\",\"Brazil\",\"Brazil\",\"Brazil\",\"Bulgaria\",\"Bulgaria\",\"Bulgaria\",\"Canada\",\"Canada\",\"Canada\",\"China\",\"China\",\"China\",\"China\",\"China\",\"China\",\"China\",\"China\",\"China\",\"China\",\"China\",\"China\",\"China\",\"China\",\"China\",\"China\",\"Costa Rica\",\"Croatia\",\"Cuba\",\"Cuba\",\"Cuba\",\"Cuba\",\"Cuba\",\"Cuba\",\"Cuba\",\"Cuba\",\"Cuba\",\"Czech Republic\",\"Czech Republic\",\"Czech Republic\",\"Czech Republic\",\"Denmark\",\"Denmark\",\"Denmark\",\"Denmark\",\"Ecuador\",\"Spain\",\"Spain\",\"Spain\",\"Spain\",\"Spain\",\"Ethiopia\",\"Ethiopia\",\"Finland\",\"France\",\"France\",\"France\",\"France\",\"France\",\"France\",\"France\",\"France\",\"France\",\"France\",\"France\",\"France\",\"France\",\"France\",\"France\",\"UK\",\"Germany\",\"Germany\",\"Germany\",\"Germany\",\"Germany\",\"Germany\",\"Germany\",\"Germany\",\"Germany\",\"Germany\",\"Germany\",\"Germany\",\"Germany\",\"Germany\",\"Germany\",\"Germany\",\"Germany\",\"Germany\",\"Germany\",\"Germany\",\"Germany\",\"Greece\",\"Greece\",\"Greece\",\"Greece\",\"China\",\"Hungary\",\"Hungary\",\"Hungary\",\"Hungary\",\"Hungary\",\"Hungary\",\"Hungary\",\"Indonesia\",\"Iran\",\"Ireland\",\"Ireland\",\"Ireland\",\"Italy\",\"Italy\",\"Italy\",\"Italy\",\"Italy\",\"Italy\",\"Italy\",\"Italy\",\"Italy\",\"Italy\",\"Italy\",\"Italy\",\"Italy\",\"Jamaica\",\"Japan\",\"Japan\",\"Japan\",\"Kazakhstan\",\"Kazakhstan\",\"Kazakhstan\",\"Kenya\",\"South Korea\",\"South Korea\",\"South Korea\",\"South Korea\",\"South Korea\",\"South Korea\",\"South Korea\",\"South Korea\",\"Netherlands\",\"Netherlands\",\"Netherlands\",\"Netherlands\",\"Nigeria\",\"Nigeria\",\"Norway\",\"Norway\",\"New Zealand\",\"New Zealand\",\"New Zealand\",\"Poland\",\"Poland\",\"Poland\",\"Poland\",\"Poland\",\"Poland\",\"Poland\",\"Portugal\",\"North Korea\",\"North Korea\",\"Romania\",\"Romania\",\"Romania\",\"Romania\",\"South Africa\",\"South Africa\",\"South Africa\",\"Russia\",\"Russia\",\"Russia\",\"Russia\",\"Russia\",\"Russia\",\"Russia\",\"Russia\",\"Russia\",\"Russia\",\"Russia\",\"Russia\",\"Russia\",\"Russia\",\"Russia\",\"Russia\",\"Russia\",\"Russia\",\"Russia\",\"Russia\",\"Russia\",\"Russia\",\"Russia\",\"Russia\",\"Russia\",\"Russia\",\"Serbia\",\"Switzerland\",\"Switzerland\",\"Switzerland\",\"Switzerland\",\"Slovakia\",\"Sweden\",\"Sweden\",\"Syria\",\"Thailand\",\"Turkey\",\"Turkey\",\"Turkey\",\"Turkey\",\"Ukraine\",\"Ukraine\",\"Ukraine\",\"Ukraine\",\"Ukraine\",\"Ukraine\",\"Ukraine\",\"Ukraine\",\"Ukraine\",\"USA\",\"USA\",\"USA\",\"USA\",\"USA\",\"USA\",\"USA\",\"USA\",\"USA\",\"USA\",\"USA\",\"USA\",\"USA\",\"USA\",\"USA\",\"USA\",\"USA\",\"USA\",\"USA\",\"USA\",\"USA\",\"USA\",\"USA\",\"USA\",\"USA\",\"USA\",\"USA\",\"USA\",\"USA\",\"USA\",\"USA\",\"USA\",\"USA\",\"USA\",\"USA\",\"USA\",\"USA\",\"USA\",\"USA\",\"USA\",\"USA\",\"USA\",\"USA\",\"USA\"],\"legendgroup\":\"\",\"locations\":[\"Algeria\",\"Algeria\",\"Armenia\",\"Australia\",\"Australia\",\"Australia\",\"Australia\",\"Australia\",\"Australia\",\"Australia\",\"Australia\",\"Australia\",\"Australia\",\"Burundi\",\"Belgium\",\"Belgium\",\"Belarus\",\"Brazil\",\"Brazil\",\"Brazil\",\"Bulgaria\",\"Bulgaria\",\"Bulgaria\",\"Canada\",\"Canada\",\"Canada\",\"China\",\"China\",\"China\",\"China\",\"China\",\"China\",\"China\",\"China\",\"China\",\"China\",\"China\",\"China\",\"China\",\"China\",\"China\",\"China\",\"Costa Rica\",\"Croatia\",\"Cuba\",\"Cuba\",\"Cuba\",\"Cuba\",\"Cuba\",\"Cuba\",\"Cuba\",\"Cuba\",\"Cuba\",\"Czech Republic\",\"Czech Republic\",\"Czech Republic\",\"Czech Republic\",\"Denmark\",\"Denmark\",\"Denmark\",\"Denmark\",\"Ecuador\",\"Spain\",\"Spain\",\"Spain\",\"Spain\",\"Spain\",\"Ethiopia\",\"Ethiopia\",\"Finland\",\"France\",\"France\",\"France\",\"France\",\"France\",\"France\",\"France\",\"France\",\"France\",\"France\",\"France\",\"France\",\"France\",\"France\",\"France\",\"UK\",\"Germany\",\"Germany\",\"Germany\",\"Germany\",\"Germany\",\"Germany\",\"Germany\",\"Germany\",\"Germany\",\"Germany\",\"Germany\",\"Germany\",\"Germany\",\"Germany\",\"Germany\",\"Germany\",\"Germany\",\"Germany\",\"Germany\",\"Germany\",\"Germany\",\"Greece\",\"Greece\",\"Greece\",\"Greece\",\"China\",\"Hungary\",\"Hungary\",\"Hungary\",\"Hungary\",\"Hungary\",\"Hungary\",\"Hungary\",\"Indonesia\",\"Iran\",\"Ireland\",\"Ireland\",\"Ireland\",\"Italy\",\"Italy\",\"Italy\",\"Italy\",\"Italy\",\"Italy\",\"Italy\",\"Italy\",\"Italy\",\"Italy\",\"Italy\",\"Italy\",\"Italy\",\"Jamaica\",\"Japan\",\"Japan\",\"Japan\",\"Kazakhstan\",\"Kazakhstan\",\"Kazakhstan\",\"Kenya\",\"South Korea\",\"South Korea\",\"South Korea\",\"South Korea\",\"South Korea\",\"South Korea\",\"South Korea\",\"South Korea\",\"Netherlands\",\"Netherlands\",\"Netherlands\",\"Netherlands\",\"Nigeria\",\"Nigeria\",\"Norway\",\"Norway\",\"New Zealand\",\"New Zealand\",\"New Zealand\",\"Poland\",\"Poland\",\"Poland\",\"Poland\",\"Poland\",\"Poland\",\"Poland\",\"Portugal\",\"North Korea\",\"North Korea\",\"Romania\",\"Romania\",\"Romania\",\"Romania\",\"South Africa\",\"South Africa\",\"South Africa\",\"Russia\",\"Russia\",\"Russia\",\"Russia\",\"Russia\",\"Russia\",\"Russia\",\"Russia\",\"Russia\",\"Russia\",\"Russia\",\"Russia\",\"Russia\",\"Russia\",\"Russia\",\"Russia\",\"Russia\",\"Russia\",\"Russia\",\"Russia\",\"Russia\",\"Russia\",\"Russia\",\"Russia\",\"Russia\",\"Russia\",\"Serbia\",\"Switzerland\",\"Switzerland\",\"Switzerland\",\"Switzerland\",\"Slovakia\",\"Sweden\",\"Sweden\",\"Syria\",\"Thailand\",\"Turkey\",\"Turkey\",\"Turkey\",\"Turkey\",\"Ukraine\",\"Ukraine\",\"Ukraine\",\"Ukraine\",\"Ukraine\",\"Ukraine\",\"Ukraine\",\"Ukraine\",\"Ukraine\",\"USA\",\"USA\",\"USA\",\"USA\",\"USA\",\"USA\",\"USA\",\"USA\",\"USA\",\"USA\",\"USA\",\"USA\",\"USA\",\"USA\",\"USA\",\"USA\",\"USA\",\"USA\",\"USA\",\"USA\",\"USA\",\"USA\",\"USA\",\"USA\",\"USA\",\"USA\",\"USA\",\"USA\",\"USA\",\"USA\",\"USA\",\"USA\",\"USA\",\"USA\",\"USA\",\"USA\",\"USA\",\"USA\",\"USA\",\"USA\",\"USA\",\"USA\",\"USA\",\"USA\"],\"marker\":{\"color\":[1,1,1,2,2,16,4,2,1,1,1,1,2,1,1,1,1,2,1,2,1,1,1,1,5,2,1,2,1,1,1,1,1,1,1,1,2,1,2,1,1,1,1,16,20,1,1,1,1,1,10,1,1,1,1,1,1,1,15,4,1,1,1,6,2,2,12,1,1,1,1,1,1,2,1,4,1,1,1,1,3,1,1,1,1,2,1,1,1,2,2,4,1,4,1,1,2,2,1,4,1,1,4,4,3,1,1,1,1,1,1,1,1,1,2,1,1,1,1,2,1,1,1,1,2,1,1,1,1,1,1,3,3,1,2,1,1,1,1,1,1,1,1,1,1,1,3,1,1,1,1,1,1,1,16,9,12,1,16,1,1,1,1,1,1,1,1,1,1,1,1,1,1,1,1,1,9,2,1,1,1,1,1,1,1,1,1,3,1,3,1,1,7,1,1,1,1,1,1,1,1,1,1,1,1,1,1,1,1,1,2,1,1,1,2,1,1,1,1,1,1,1,1,1,1,1,1,2,1,1,1,3,1,1,5,1,1,1,1,1,1,1,1,5,5,12,12,2,1,15,1,7,1,15,1,1,6,8,5,1,1,1,6,8,7,1,1,10,1,2,1,1,1,1],\"coloraxis\":\"coloraxis\",\"size\":[1,1,1,2,2,16,4,2,1,1,1,1,2,1,1,1,1,2,1,2,1,1,1,1,5,2,1,2,1,1,1,1,1,1,1,1,2,1,2,1,1,1,1,16,20,1,1,1,1,1,10,1,1,1,1,1,1,1,15,4,1,1,1,6,2,2,12,1,1,1,1,1,1,2,1,4,1,1,1,1,3,1,1,1,1,2,1,1,1,2,2,4,1,4,1,1,2,2,1,4,1,1,4,4,3,1,1,1,1,1,1,1,1,1,2,1,1,1,1,2,1,1,1,1,2,1,1,1,1,1,1,3,3,1,2,1,1,1,1,1,1,1,1,1,1,1,3,1,1,1,1,1,1,1,16,9,12,1,16,1,1,1,1,1,1,1,1,1,1,1,1,1,1,1,1,1,9,2,1,1,1,1,1,1,1,1,1,3,1,3,1,1,7,1,1,1,1,1,1,1,1,1,1,1,1,1,1,1,1,1,2,1,1,1,2,1,1,1,1,1,1,1,1,1,1,1,1,2,1,1,1,3,1,1,5,1,1,1,1,1,1,1,1,5,5,12,12,2,1,15,1,7,1,15,1,1,6,8,5,1,1,1,6,8,7,1,1,10,1,2,1,1,1,1],\"sizemode\":\"area\",\"sizeref\":0.05,\"symbol\":\"circle\"},\"mode\":\"markers\",\"name\":\"\",\"showlegend\":false,\"type\":\"scattergeo\"}],                        {\"template\":{\"data\":{\"bar\":[{\"error_x\":{\"color\":\"#2a3f5f\"},\"error_y\":{\"color\":\"#2a3f5f\"},\"marker\":{\"line\":{\"color\":\"#E5ECF6\",\"width\":0.5},\"pattern\":{\"fillmode\":\"overlay\",\"size\":10,\"solidity\":0.2}},\"type\":\"bar\"}],\"barpolar\":[{\"marker\":{\"line\":{\"color\":\"#E5ECF6\",\"width\":0.5},\"pattern\":{\"fillmode\":\"overlay\",\"size\":10,\"solidity\":0.2}},\"type\":\"barpolar\"}],\"carpet\":[{\"aaxis\":{\"endlinecolor\":\"#2a3f5f\",\"gridcolor\":\"white\",\"linecolor\":\"white\",\"minorgridcolor\":\"white\",\"startlinecolor\":\"#2a3f5f\"},\"baxis\":{\"endlinecolor\":\"#2a3f5f\",\"gridcolor\":\"white\",\"linecolor\":\"white\",\"minorgridcolor\":\"white\",\"startlinecolor\":\"#2a3f5f\"},\"type\":\"carpet\"}],\"choropleth\":[{\"colorbar\":{\"outlinewidth\":0,\"ticks\":\"\"},\"type\":\"choropleth\"}],\"contour\":[{\"colorbar\":{\"outlinewidth\":0,\"ticks\":\"\"},\"colorscale\":[[0.0,\"#0d0887\"],[0.1111111111111111,\"#46039f\"],[0.2222222222222222,\"#7201a8\"],[0.3333333333333333,\"#9c179e\"],[0.4444444444444444,\"#bd3786\"],[0.5555555555555556,\"#d8576b\"],[0.6666666666666666,\"#ed7953\"],[0.7777777777777778,\"#fb9f3a\"],[0.8888888888888888,\"#fdca26\"],[1.0,\"#f0f921\"]],\"type\":\"contour\"}],\"contourcarpet\":[{\"colorbar\":{\"outlinewidth\":0,\"ticks\":\"\"},\"type\":\"contourcarpet\"}],\"heatmap\":[{\"colorbar\":{\"outlinewidth\":0,\"ticks\":\"\"},\"colorscale\":[[0.0,\"#0d0887\"],[0.1111111111111111,\"#46039f\"],[0.2222222222222222,\"#7201a8\"],[0.3333333333333333,\"#9c179e\"],[0.4444444444444444,\"#bd3786\"],[0.5555555555555556,\"#d8576b\"],[0.6666666666666666,\"#ed7953\"],[0.7777777777777778,\"#fb9f3a\"],[0.8888888888888888,\"#fdca26\"],[1.0,\"#f0f921\"]],\"type\":\"heatmap\"}],\"heatmapgl\":[{\"colorbar\":{\"outlinewidth\":0,\"ticks\":\"\"},\"colorscale\":[[0.0,\"#0d0887\"],[0.1111111111111111,\"#46039f\"],[0.2222222222222222,\"#7201a8\"],[0.3333333333333333,\"#9c179e\"],[0.4444444444444444,\"#bd3786\"],[0.5555555555555556,\"#d8576b\"],[0.6666666666666666,\"#ed7953\"],[0.7777777777777778,\"#fb9f3a\"],[0.8888888888888888,\"#fdca26\"],[1.0,\"#f0f921\"]],\"type\":\"heatmapgl\"}],\"histogram\":[{\"marker\":{\"pattern\":{\"fillmode\":\"overlay\",\"size\":10,\"solidity\":0.2}},\"type\":\"histogram\"}],\"histogram2d\":[{\"colorbar\":{\"outlinewidth\":0,\"ticks\":\"\"},\"colorscale\":[[0.0,\"#0d0887\"],[0.1111111111111111,\"#46039f\"],[0.2222222222222222,\"#7201a8\"],[0.3333333333333333,\"#9c179e\"],[0.4444444444444444,\"#bd3786\"],[0.5555555555555556,\"#d8576b\"],[0.6666666666666666,\"#ed7953\"],[0.7777777777777778,\"#fb9f3a\"],[0.8888888888888888,\"#fdca26\"],[1.0,\"#f0f921\"]],\"type\":\"histogram2d\"}],\"histogram2dcontour\":[{\"colorbar\":{\"outlinewidth\":0,\"ticks\":\"\"},\"colorscale\":[[0.0,\"#0d0887\"],[0.1111111111111111,\"#46039f\"],[0.2222222222222222,\"#7201a8\"],[0.3333333333333333,\"#9c179e\"],[0.4444444444444444,\"#bd3786\"],[0.5555555555555556,\"#d8576b\"],[0.6666666666666666,\"#ed7953\"],[0.7777777777777778,\"#fb9f3a\"],[0.8888888888888888,\"#fdca26\"],[1.0,\"#f0f921\"]],\"type\":\"histogram2dcontour\"}],\"mesh3d\":[{\"colorbar\":{\"outlinewidth\":0,\"ticks\":\"\"},\"type\":\"mesh3d\"}],\"parcoords\":[{\"line\":{\"colorbar\":{\"outlinewidth\":0,\"ticks\":\"\"}},\"type\":\"parcoords\"}],\"pie\":[{\"automargin\":true,\"type\":\"pie\"}],\"scatter\":[{\"marker\":{\"colorbar\":{\"outlinewidth\":0,\"ticks\":\"\"}},\"type\":\"scatter\"}],\"scatter3d\":[{\"line\":{\"colorbar\":{\"outlinewidth\":0,\"ticks\":\"\"}},\"marker\":{\"colorbar\":{\"outlinewidth\":0,\"ticks\":\"\"}},\"type\":\"scatter3d\"}],\"scattercarpet\":[{\"marker\":{\"colorbar\":{\"outlinewidth\":0,\"ticks\":\"\"}},\"type\":\"scattercarpet\"}],\"scattergeo\":[{\"marker\":{\"colorbar\":{\"outlinewidth\":0,\"ticks\":\"\"}},\"type\":\"scattergeo\"}],\"scattergl\":[{\"marker\":{\"colorbar\":{\"outlinewidth\":0,\"ticks\":\"\"}},\"type\":\"scattergl\"}],\"scattermapbox\":[{\"marker\":{\"colorbar\":{\"outlinewidth\":0,\"ticks\":\"\"}},\"type\":\"scattermapbox\"}],\"scatterpolar\":[{\"marker\":{\"colorbar\":{\"outlinewidth\":0,\"ticks\":\"\"}},\"type\":\"scatterpolar\"}],\"scatterpolargl\":[{\"marker\":{\"colorbar\":{\"outlinewidth\":0,\"ticks\":\"\"}},\"type\":\"scatterpolargl\"}],\"scatterternary\":[{\"marker\":{\"colorbar\":{\"outlinewidth\":0,\"ticks\":\"\"}},\"type\":\"scatterternary\"}],\"surface\":[{\"colorbar\":{\"outlinewidth\":0,\"ticks\":\"\"},\"colorscale\":[[0.0,\"#0d0887\"],[0.1111111111111111,\"#46039f\"],[0.2222222222222222,\"#7201a8\"],[0.3333333333333333,\"#9c179e\"],[0.4444444444444444,\"#bd3786\"],[0.5555555555555556,\"#d8576b\"],[0.6666666666666666,\"#ed7953\"],[0.7777777777777778,\"#fb9f3a\"],[0.8888888888888888,\"#fdca26\"],[1.0,\"#f0f921\"]],\"type\":\"surface\"}],\"table\":[{\"cells\":{\"fill\":{\"color\":\"#EBF0F8\"},\"line\":{\"color\":\"white\"}},\"header\":{\"fill\":{\"color\":\"#C8D4E3\"},\"line\":{\"color\":\"white\"}},\"type\":\"table\"}]},\"layout\":{\"annotationdefaults\":{\"arrowcolor\":\"#2a3f5f\",\"arrowhead\":0,\"arrowwidth\":1},\"autotypenumbers\":\"strict\",\"coloraxis\":{\"colorbar\":{\"outlinewidth\":0,\"ticks\":\"\"}},\"colorscale\":{\"diverging\":[[0,\"#8e0152\"],[0.1,\"#c51b7d\"],[0.2,\"#de77ae\"],[0.3,\"#f1b6da\"],[0.4,\"#fde0ef\"],[0.5,\"#f7f7f7\"],[0.6,\"#e6f5d0\"],[0.7,\"#b8e186\"],[0.8,\"#7fbc41\"],[0.9,\"#4d9221\"],[1,\"#276419\"]],\"sequential\":[[0.0,\"#0d0887\"],[0.1111111111111111,\"#46039f\"],[0.2222222222222222,\"#7201a8\"],[0.3333333333333333,\"#9c179e\"],[0.4444444444444444,\"#bd3786\"],[0.5555555555555556,\"#d8576b\"],[0.6666666666666666,\"#ed7953\"],[0.7777777777777778,\"#fb9f3a\"],[0.8888888888888888,\"#fdca26\"],[1.0,\"#f0f921\"]],\"sequentialminus\":[[0.0,\"#0d0887\"],[0.1111111111111111,\"#46039f\"],[0.2222222222222222,\"#7201a8\"],[0.3333333333333333,\"#9c179e\"],[0.4444444444444444,\"#bd3786\"],[0.5555555555555556,\"#d8576b\"],[0.6666666666666666,\"#ed7953\"],[0.7777777777777778,\"#fb9f3a\"],[0.8888888888888888,\"#fdca26\"],[1.0,\"#f0f921\"]]},\"colorway\":[\"#636efa\",\"#EF553B\",\"#00cc96\",\"#ab63fa\",\"#FFA15A\",\"#19d3f3\",\"#FF6692\",\"#B6E880\",\"#FF97FF\",\"#FECB52\"],\"font\":{\"color\":\"#2a3f5f\"},\"geo\":{\"bgcolor\":\"white\",\"lakecolor\":\"white\",\"landcolor\":\"#E5ECF6\",\"showlakes\":true,\"showland\":true,\"subunitcolor\":\"white\"},\"hoverlabel\":{\"align\":\"left\"},\"hovermode\":\"closest\",\"mapbox\":{\"style\":\"light\"},\"paper_bgcolor\":\"white\",\"plot_bgcolor\":\"#E5ECF6\",\"polar\":{\"angularaxis\":{\"gridcolor\":\"white\",\"linecolor\":\"white\",\"ticks\":\"\"},\"bgcolor\":\"#E5ECF6\",\"radialaxis\":{\"gridcolor\":\"white\",\"linecolor\":\"white\",\"ticks\":\"\"}},\"scene\":{\"xaxis\":{\"backgroundcolor\":\"#E5ECF6\",\"gridcolor\":\"white\",\"gridwidth\":2,\"linecolor\":\"white\",\"showbackground\":true,\"ticks\":\"\",\"zerolinecolor\":\"white\"},\"yaxis\":{\"backgroundcolor\":\"#E5ECF6\",\"gridcolor\":\"white\",\"gridwidth\":2,\"linecolor\":\"white\",\"showbackground\":true,\"ticks\":\"\",\"zerolinecolor\":\"white\"},\"zaxis\":{\"backgroundcolor\":\"#E5ECF6\",\"gridcolor\":\"white\",\"gridwidth\":2,\"linecolor\":\"white\",\"showbackground\":true,\"ticks\":\"\",\"zerolinecolor\":\"white\"}},\"shapedefaults\":{\"line\":{\"color\":\"#2a3f5f\"}},\"ternary\":{\"aaxis\":{\"gridcolor\":\"white\",\"linecolor\":\"white\",\"ticks\":\"\"},\"baxis\":{\"gridcolor\":\"white\",\"linecolor\":\"white\",\"ticks\":\"\"},\"bgcolor\":\"#E5ECF6\",\"caxis\":{\"gridcolor\":\"white\",\"linecolor\":\"white\",\"ticks\":\"\"}},\"title\":{\"x\":0.05},\"xaxis\":{\"automargin\":true,\"gridcolor\":\"white\",\"linecolor\":\"white\",\"ticks\":\"\",\"title\":{\"standoff\":15},\"zerolinecolor\":\"white\",\"zerolinewidth\":2},\"yaxis\":{\"automargin\":true,\"gridcolor\":\"white\",\"linecolor\":\"white\",\"ticks\":\"\",\"title\":{\"standoff\":15},\"zerolinecolor\":\"white\",\"zerolinewidth\":2}}},\"geo\":{\"domain\":{\"x\":[0.0,1.0],\"y\":[0.0,1.0]},\"projection\":{\"type\":\"natural earth\"},\"center\":{}},\"coloraxis\":{\"colorbar\":{\"title\":{\"text\":\"Medal_Won\"}},\"colorscale\":[[0.0,\"#0d0887\"],[0.1111111111111111,\"#46039f\"],[0.2222222222222222,\"#7201a8\"],[0.3333333333333333,\"#9c179e\"],[0.4444444444444444,\"#bd3786\"],[0.5555555555555556,\"#d8576b\"],[0.6666666666666666,\"#ed7953\"],[0.7777777777777778,\"#fb9f3a\"],[0.8888888888888888,\"#fdca26\"],[1.0,\"#f0f921\"]]},\"legend\":{\"tracegroupgap\":0,\"itemsizing\":\"constant\"},\"margin\":{\"t\":60}},                        {\"responsive\": true}                    ).then(function(){\n",
       "                            \n",
       "var gd = document.getElementById('62f78e65-d80f-4e41-be52-5ab3aca6d3c9');\n",
       "var x = new MutationObserver(function (mutations, observer) {{\n",
       "        var display = window.getComputedStyle(gd).display;\n",
       "        if (!display || display === 'none') {{\n",
       "            console.log([gd, 'removed!']);\n",
       "            Plotly.purge(gd);\n",
       "            observer.disconnect();\n",
       "        }}\n",
       "}});\n",
       "\n",
       "// Listen for the removal of the full notebook cells\n",
       "var notebookContainer = gd.closest('#notebook-container');\n",
       "if (notebookContainer) {{\n",
       "    x.observe(notebookContainer, {childList: true});\n",
       "}}\n",
       "\n",
       "// Listen for the clearing of the current output cell\n",
       "var outputEl = gd.closest('.output');\n",
       "if (outputEl) {{\n",
       "    x.observe(outputEl, {childList: true});\n",
       "}}\n",
       "\n",
       "                        })                };                });            </script>        </div>"
      ]
     },
     "metadata": {},
     "output_type": "display_data"
    }
   ],
   "source": [
    "import plotly.express as px\n",
    "\n",
    "fig = px.scatter_geo(medals[(medals['Year'] == 1996) & (medals['Medal'] == 'Gold')], \n",
    "                     locations=\"Country\", \n",
    "                     color=\"Medal_Won\", \n",
    "                     hover_name=\"Country\", \n",
    "                     size=\"Medal_Won\", \n",
    "                     projection=\"natural earth\")\n",
    "fig.show()"
   ]
  },
  {
   "cell_type": "markdown",
   "id": "de8dd032-e61e-4e32-ae71-c21e69a66661",
   "metadata": {},
   "source": [
    "#### howto conclusion\n",
    "\n",
    "This mostly seems to work well till the last example. It does not write the most consise code but it does seem to agree"
   ]
  },
  {
   "cell_type": "markdown",
   "id": "2df9b014-d10d-4324-b106-014a99917fa3",
   "metadata": {},
   "source": [
    "## The apply function"
   ]
  },
  {
   "cell_type": "code",
   "execution_count": null,
   "id": "f7f84023-e099-4103-ad40-f1cbffa7290f",
   "metadata": {},
   "outputs": [],
   "source": []
  },
  {
   "cell_type": "markdown",
   "id": "f0c59fd3-c79b-4321-a70f-f12a4d35a143",
   "metadata": {},
   "source": [
    "apply is a more advanced prompt that is more useful for data generation. Use it to parse fields, generate new features, and more. This is built directly on lambdaprompt. In order to use this, you will need to set up a free account with OpenAI, and set an environment variable with your API key. OPENAI_API_KEY=YOUR_API_KEY"
   ]
  },
  {
   "cell_type": "markdown",
   "id": "88843b3f-60a7-4563-8ed9-0d679155fd19",
   "metadata": {},
   "source": [
    "So you will have to regsiter your own api key for openAI. I will use mine here as an example"
   ]
  },
  {
   "cell_type": "code",
   "execution_count": 125,
   "id": "1a918c20-9aa3-474f-ae44-2de162cea23b",
   "metadata": {},
   "outputs": [],
   "source": [
    "api_key = \"................\""
   ]
  },
  {
   "cell_type": "code",
   "execution_count": 127,
   "id": "2be73114-de99-494a-9706-dde015abc2d4",
   "metadata": {},
   "outputs": [],
   "source": [
    "import os\n",
    "os.environ[\"SKETCH_USE_REMOTE_LAMBDAPROMPT\"] =  \"False\"\n",
    "os.environ[\"OPENAI_API_KEY\"] =  api_key"
   ]
  },
  {
   "cell_type": "code",
   "execution_count": 92,
   "id": "0ff88d80-8aaf-4b71-a307-a5deb2993374",
   "metadata": {},
   "outputs": [],
   "source": [
    "data = pd.read_csv('https://github.com/DrPBaksh/workshop-data/blob/main/IMDB_Dataset_Sample.csv?raw=true')"
   ]
  },
  {
   "cell_type": "code",
   "execution_count": 153,
   "id": "5ea98efd-ed36-4b15-8139-110cfcfd7844",
   "metadata": {},
   "outputs": [
    {
     "data": {
      "text/html": [
       "<div>\n",
       "<style scoped>\n",
       "    .dataframe tbody tr th:only-of-type {\n",
       "        vertical-align: middle;\n",
       "    }\n",
       "\n",
       "    .dataframe tbody tr th {\n",
       "        vertical-align: top;\n",
       "    }\n",
       "\n",
       "    .dataframe thead th {\n",
       "        text-align: right;\n",
       "    }\n",
       "</style>\n",
       "<table border=\"1\" class=\"dataframe\">\n",
       "  <thead>\n",
       "    <tr style=\"text-align: right;\">\n",
       "      <th></th>\n",
       "      <th>state</th>\n",
       "    </tr>\n",
       "  </thead>\n",
       "  <tbody>\n",
       "    <tr>\n",
       "      <th>0</th>\n",
       "      <td>Colorado</td>\n",
       "    </tr>\n",
       "    <tr>\n",
       "      <th>1</th>\n",
       "      <td>Kansas</td>\n",
       "    </tr>\n",
       "    <tr>\n",
       "      <th>2</th>\n",
       "      <td>California</td>\n",
       "    </tr>\n",
       "    <tr>\n",
       "      <th>3</th>\n",
       "      <td>New York</td>\n",
       "    </tr>\n",
       "  </tbody>\n",
       "</table>\n",
       "</div>"
      ],
      "text/plain": [
       "        state\n",
       "0    Colorado\n",
       "1      Kansas\n",
       "2  California\n",
       "3    New York"
      ]
     },
     "execution_count": 153,
     "metadata": {},
     "output_type": "execute_result"
    }
   ],
   "source": [
    "populations = pd.DataFrame(['Colorado', 'Kansas', 'California', 'New York'], columns = ['state'])\n",
    "populations"
   ]
  },
  {
   "cell_type": "code",
   "execution_count": 158,
   "id": "293670bc-94e3-4826-a806-7136cf545977",
   "metadata": {},
   "outputs": [
    {
     "data": {
      "text/html": [
       "<div>\n",
       "<style scoped>\n",
       "    .dataframe tbody tr th:only-of-type {\n",
       "        vertical-align: middle;\n",
       "    }\n",
       "\n",
       "    .dataframe tbody tr th {\n",
       "        vertical-align: top;\n",
       "    }\n",
       "\n",
       "    .dataframe thead th {\n",
       "        text-align: right;\n",
       "    }\n",
       "</style>\n",
       "<table border=\"1\" class=\"dataframe\">\n",
       "  <thead>\n",
       "    <tr style=\"text-align: right;\">\n",
       "      <th></th>\n",
       "      <th>state</th>\n",
       "      <th>state_capitol</th>\n",
       "      <th>state_population</th>\n",
       "    </tr>\n",
       "  </thead>\n",
       "  <tbody>\n",
       "    <tr>\n",
       "      <th>0</th>\n",
       "      <td>Colorado</td>\n",
       "      <td>\\n\\nDenver</td>\n",
       "      <td>\\n\\n5,758,736</td>\n",
       "    </tr>\n",
       "    <tr>\n",
       "      <th>1</th>\n",
       "      <td>Kansas</td>\n",
       "      <td>\\n\\nTopeka</td>\n",
       "      <td>\\n\\n2,913,314</td>\n",
       "    </tr>\n",
       "    <tr>\n",
       "      <th>2</th>\n",
       "      <td>California</td>\n",
       "      <td>\\n\\nSacramento</td>\n",
       "      <td>\\n\\n39,512,223</td>\n",
       "    </tr>\n",
       "    <tr>\n",
       "      <th>3</th>\n",
       "      <td>New York</td>\n",
       "      <td>\\n\\nAlbany.</td>\n",
       "      <td>\\n\\n19,453,561</td>\n",
       "    </tr>\n",
       "  </tbody>\n",
       "</table>\n",
       "</div>"
      ],
      "text/plain": [
       "        state   state_capitol state_population\n",
       "0    Colorado      \\n\\nDenver    \\n\\n5,758,736\n",
       "1      Kansas      \\n\\nTopeka    \\n\\n2,913,314\n",
       "2  California  \\n\\nSacramento   \\n\\n39,512,223\n",
       "3    New York     \\n\\nAlbany.   \\n\\n19,453,561"
      ]
     },
     "execution_count": 158,
     "metadata": {},
     "output_type": "execute_result"
    }
   ],
   "source": [
    "populations['state_capitol'] = populations.sketch.apply(\"What is the capitol of [{{ state }}]?\")\n",
    "populations['state_population'] = populations.sketch.apply(\"What is the population of [{{ state}}]. Provide it as an integer number on the most recent data?\")\n",
    "populations"
   ]
  },
  {
   "cell_type": "markdown",
   "id": "f157505d-8f33-4872-bc04-1ee4dd0496cc",
   "metadata": {},
   "source": [
    "### Conclusion\n",
    "\n",
    "The combination with chat GPT3 is pretty cool and I can see it will have many uses"
   ]
  },
  {
   "cell_type": "code",
   "execution_count": 145,
   "id": "4062de5f-13d3-414d-bf11-dc2446d36457",
   "metadata": {},
   "outputs": [],
   "source": [
    "\n"
   ]
  },
  {
   "cell_type": "code",
   "execution_count": null,
   "id": "0a30d1b8-a7d3-44a4-8cfe-4899bb01c0cd",
   "metadata": {},
   "outputs": [],
   "source": []
  }
 ],
 "metadata": {
  "kernelspec": {
   "display_name": "Python 3 (ipykernel)",
   "language": "python",
   "name": "python3"
  },
  "language_info": {
   "codemirror_mode": {
    "name": "ipython",
    "version": 3
   },
   "file_extension": ".py",
   "mimetype": "text/x-python",
   "name": "python",
   "nbconvert_exporter": "python",
   "pygments_lexer": "ipython3",
   "version": "3.9.12"
  }
 },
 "nbformat": 4,
 "nbformat_minor": 5
}
